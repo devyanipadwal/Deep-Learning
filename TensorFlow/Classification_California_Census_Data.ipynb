{
  "nbformat": 4,
  "nbformat_minor": 0,
  "metadata": {
    "kernelspec": {
      "display_name": "Python 3",
      "language": "python",
      "name": "python3"
    },
    "language_info": {
      "codemirror_mode": {
        "name": "ipython",
        "version": 3
      },
      "file_extension": ".py",
      "mimetype": "text/x-python",
      "name": "python",
      "nbconvert_exporter": "python",
      "pygments_lexer": "ipython3",
      "version": "3.7.1"
    },
    "colab": {
      "name": "Classification_California Census Data.ipynb",
      "provenance": [],
      "collapsed_sections": [],
      "toc_visible": true
    },
    "accelerator": "GPU"
  },
  "cells": [
    {
      "cell_type": "markdown",
      "metadata": {
        "id": "tmtpfDSE8N86",
        "colab_type": "text"
      },
      "source": [
        "### DATA"
      ]
    },
    {
      "cell_type": "code",
      "metadata": {
        "id": "pFyrfOH18N87",
        "colab_type": "code",
        "colab": {}
      },
      "source": [
        "import pandas as pd\n",
        "import tensorflow as tf"
      ],
      "execution_count": 0,
      "outputs": []
    },
    {
      "cell_type": "code",
      "metadata": {
        "id": "fRg0VyIz8N8_",
        "colab_type": "code",
        "colab": {}
      },
      "source": [
        "census = pd.read_csv(\"census_data.csv\")"
      ],
      "execution_count": 0,
      "outputs": []
    },
    {
      "cell_type": "code",
      "metadata": {
        "id": "10rfx95e8N9E",
        "colab_type": "code",
        "colab": {
          "base_uri": "https://localhost:8080/",
          "height": 300
        },
        "outputId": "11dfae6b-1466-4120-e920-185dfdce68d8"
      },
      "source": [
        "census.head()"
      ],
      "execution_count": 3,
      "outputs": [
        {
          "output_type": "execute_result",
          "data": {
            "text/html": [
              "<div>\n",
              "<style scoped>\n",
              "    .dataframe tbody tr th:only-of-type {\n",
              "        vertical-align: middle;\n",
              "    }\n",
              "\n",
              "    .dataframe tbody tr th {\n",
              "        vertical-align: top;\n",
              "    }\n",
              "\n",
              "    .dataframe thead th {\n",
              "        text-align: right;\n",
              "    }\n",
              "</style>\n",
              "<table border=\"1\" class=\"dataframe\">\n",
              "  <thead>\n",
              "    <tr style=\"text-align: right;\">\n",
              "      <th></th>\n",
              "      <th>age</th>\n",
              "      <th>workclass</th>\n",
              "      <th>education</th>\n",
              "      <th>education_num</th>\n",
              "      <th>marital_status</th>\n",
              "      <th>occupation</th>\n",
              "      <th>relationship</th>\n",
              "      <th>race</th>\n",
              "      <th>gender</th>\n",
              "      <th>capital_gain</th>\n",
              "      <th>capital_loss</th>\n",
              "      <th>hours_per_week</th>\n",
              "      <th>native_country</th>\n",
              "      <th>income_bracket</th>\n",
              "    </tr>\n",
              "  </thead>\n",
              "  <tbody>\n",
              "    <tr>\n",
              "      <th>0</th>\n",
              "      <td>39</td>\n",
              "      <td>State-gov</td>\n",
              "      <td>Bachelors</td>\n",
              "      <td>13</td>\n",
              "      <td>Never-married</td>\n",
              "      <td>Adm-clerical</td>\n",
              "      <td>Not-in-family</td>\n",
              "      <td>White</td>\n",
              "      <td>Male</td>\n",
              "      <td>2174</td>\n",
              "      <td>0</td>\n",
              "      <td>40</td>\n",
              "      <td>United-States</td>\n",
              "      <td>&lt;=50K</td>\n",
              "    </tr>\n",
              "    <tr>\n",
              "      <th>1</th>\n",
              "      <td>50</td>\n",
              "      <td>Self-emp-not-inc</td>\n",
              "      <td>Bachelors</td>\n",
              "      <td>13</td>\n",
              "      <td>Married-civ-spouse</td>\n",
              "      <td>Exec-managerial</td>\n",
              "      <td>Husband</td>\n",
              "      <td>White</td>\n",
              "      <td>Male</td>\n",
              "      <td>0</td>\n",
              "      <td>0</td>\n",
              "      <td>13</td>\n",
              "      <td>United-States</td>\n",
              "      <td>&lt;=50K</td>\n",
              "    </tr>\n",
              "    <tr>\n",
              "      <th>2</th>\n",
              "      <td>38</td>\n",
              "      <td>Private</td>\n",
              "      <td>HS-grad</td>\n",
              "      <td>9</td>\n",
              "      <td>Divorced</td>\n",
              "      <td>Handlers-cleaners</td>\n",
              "      <td>Not-in-family</td>\n",
              "      <td>White</td>\n",
              "      <td>Male</td>\n",
              "      <td>0</td>\n",
              "      <td>0</td>\n",
              "      <td>40</td>\n",
              "      <td>United-States</td>\n",
              "      <td>&lt;=50K</td>\n",
              "    </tr>\n",
              "    <tr>\n",
              "      <th>3</th>\n",
              "      <td>53</td>\n",
              "      <td>Private</td>\n",
              "      <td>11th</td>\n",
              "      <td>7</td>\n",
              "      <td>Married-civ-spouse</td>\n",
              "      <td>Handlers-cleaners</td>\n",
              "      <td>Husband</td>\n",
              "      <td>Black</td>\n",
              "      <td>Male</td>\n",
              "      <td>0</td>\n",
              "      <td>0</td>\n",
              "      <td>40</td>\n",
              "      <td>United-States</td>\n",
              "      <td>&lt;=50K</td>\n",
              "    </tr>\n",
              "    <tr>\n",
              "      <th>4</th>\n",
              "      <td>28</td>\n",
              "      <td>Private</td>\n",
              "      <td>Bachelors</td>\n",
              "      <td>13</td>\n",
              "      <td>Married-civ-spouse</td>\n",
              "      <td>Prof-specialty</td>\n",
              "      <td>Wife</td>\n",
              "      <td>Black</td>\n",
              "      <td>Female</td>\n",
              "      <td>0</td>\n",
              "      <td>0</td>\n",
              "      <td>40</td>\n",
              "      <td>Cuba</td>\n",
              "      <td>&lt;=50K</td>\n",
              "    </tr>\n",
              "  </tbody>\n",
              "</table>\n",
              "</div>"
            ],
            "text/plain": [
              "   age          workclass  ...  native_country  income_bracket\n",
              "0   39          State-gov  ...   United-States           <=50K\n",
              "1   50   Self-emp-not-inc  ...   United-States           <=50K\n",
              "2   38            Private  ...   United-States           <=50K\n",
              "3   53            Private  ...   United-States           <=50K\n",
              "4   28            Private  ...            Cuba           <=50K\n",
              "\n",
              "[5 rows x 14 columns]"
            ]
          },
          "metadata": {
            "tags": []
          },
          "execution_count": 3
        }
      ]
    },
    {
      "cell_type": "code",
      "metadata": {
        "id": "97A-8UFr8N9L",
        "colab_type": "code",
        "colab": {
          "base_uri": "https://localhost:8080/",
          "height": 33
        },
        "outputId": "c0af1b39-b000-48c4-d5ca-4c2cc0e766c2"
      },
      "source": [
        "census['income_bracket'].unique()"
      ],
      "execution_count": 4,
      "outputs": [
        {
          "output_type": "execute_result",
          "data": {
            "text/plain": [
              "array([' <=50K', ' >50K'], dtype=object)"
            ]
          },
          "metadata": {
            "tags": []
          },
          "execution_count": 4
        }
      ]
    },
    {
      "cell_type": "code",
      "metadata": {
        "id": "_SNrtSey8N9P",
        "colab_type": "code",
        "colab": {}
      },
      "source": [
        "def label_fix(label):\n",
        "    if label==' <=50K':\n",
        "        return 0\n",
        "    else:\n",
        "        return 1"
      ],
      "execution_count": 0,
      "outputs": []
    },
    {
      "cell_type": "code",
      "metadata": {
        "id": "KFZPU1Jd8N9S",
        "colab_type": "code",
        "colab": {}
      },
      "source": [
        "census['income_bracket'] = census['income_bracket'].apply(label_fix)"
      ],
      "execution_count": 0,
      "outputs": []
    },
    {
      "cell_type": "markdown",
      "metadata": {
        "id": "rMxX561-8N9W",
        "colab_type": "text"
      },
      "source": [
        "### Perform a Train Test Split on the Data"
      ]
    },
    {
      "cell_type": "code",
      "metadata": {
        "id": "btEiUXro8N9X",
        "colab_type": "code",
        "colab": {}
      },
      "source": [
        "from sklearn.model_selection import train_test_split"
      ],
      "execution_count": 0,
      "outputs": []
    },
    {
      "cell_type": "code",
      "metadata": {
        "id": "5A5kIerg8N9a",
        "colab_type": "code",
        "colab": {}
      },
      "source": [
        "x_data = census.drop('income_bracket',axis=1)\n",
        "y_labels = census['income_bracket']\n",
        "X_train, X_test, y_train, y_test = train_test_split(x_data,y_labels,test_size=0.3,random_state=101)"
      ],
      "execution_count": 0,
      "outputs": []
    },
    {
      "cell_type": "markdown",
      "metadata": {
        "id": "E2b7hQag8N9d",
        "colab_type": "text"
      },
      "source": [
        "### Create the Feature Columns for tf.esitmator"
      ]
    },
    {
      "cell_type": "code",
      "metadata": {
        "id": "S1tSf8_58N9e",
        "colab_type": "code",
        "colab": {
          "base_uri": "https://localhost:8080/",
          "height": 84
        },
        "outputId": "d6429b88-a75b-48f6-f7e5-05a41d48caed"
      },
      "source": [
        "census.columns"
      ],
      "execution_count": 9,
      "outputs": [
        {
          "output_type": "execute_result",
          "data": {
            "text/plain": [
              "Index(['age', 'workclass', 'education', 'education_num', 'marital_status',\n",
              "       'occupation', 'relationship', 'race', 'gender', 'capital_gain',\n",
              "       'capital_loss', 'hours_per_week', 'native_country', 'income_bracket'],\n",
              "      dtype='object')"
            ]
          },
          "metadata": {
            "tags": []
          },
          "execution_count": 9
        }
      ]
    },
    {
      "cell_type": "markdown",
      "metadata": {
        "collapsed": true,
        "id": "0NASKKsa8N9h",
        "colab_type": "text"
      },
      "source": [
        "Categorical Values"
      ]
    },
    {
      "cell_type": "code",
      "metadata": {
        "id": "BzeWhFF28N9i",
        "colab_type": "code",
        "colab": {}
      },
      "source": [
        "gender = tf.feature_column.categorical_column_with_vocabulary_list(\"gender\", [\"Female\", \"Male\"])\n",
        "occupation = tf.feature_column.categorical_column_with_hash_bucket(\"occupation\", hash_bucket_size=1000)\n",
        "marital_status = tf.feature_column.categorical_column_with_hash_bucket(\"marital_status\", hash_bucket_size=1000)\n",
        "relationship = tf.feature_column.categorical_column_with_hash_bucket(\"relationship\", hash_bucket_size=1000)\n",
        "education = tf.feature_column.categorical_column_with_hash_bucket(\"education\", hash_bucket_size=1000)\n",
        "workclass = tf.feature_column.categorical_column_with_hash_bucket(\"workclass\", hash_bucket_size=1000)\n",
        "native_country = tf.feature_column.categorical_column_with_hash_bucket(\"native_country\", hash_bucket_size=1000)"
      ],
      "execution_count": 0,
      "outputs": []
    },
    {
      "cell_type": "markdown",
      "metadata": {
        "id": "AvuLYIOD8N9l",
        "colab_type": "text"
      },
      "source": [
        "Continuous Feature_columns"
      ]
    },
    {
      "cell_type": "code",
      "metadata": {
        "id": "6buz5HnM8N9l",
        "colab_type": "code",
        "colab": {}
      },
      "source": [
        "age = tf.feature_column.numeric_column(\"age\")\n",
        "education_num = tf.feature_column.numeric_column(\"education_num\")\n",
        "capital_gain = tf.feature_column.numeric_column(\"capital_gain\")\n",
        "capital_loss = tf.feature_column.numeric_column(\"capital_loss\")\n",
        "hours_per_week = tf.feature_column.numeric_column(\"hours_per_week\")"
      ],
      "execution_count": 0,
      "outputs": []
    },
    {
      "cell_type": "code",
      "metadata": {
        "id": "2mQnKEBY8N9q",
        "colab_type": "code",
        "colab": {}
      },
      "source": [
        "feat_cols = [gender,occupation,marital_status,relationship,education,workclass,native_country,\n",
        "            age,education_num,capital_gain,capital_loss,hours_per_week]"
      ],
      "execution_count": 0,
      "outputs": []
    },
    {
      "cell_type": "markdown",
      "metadata": {
        "id": "6fnpLNBK8N9t",
        "colab_type": "text"
      },
      "source": [
        "### Create Input Function"
      ]
    },
    {
      "cell_type": "code",
      "metadata": {
        "id": "t__jgfoi8N9u",
        "colab_type": "code",
        "colab": {}
      },
      "source": [
        "input_func=tf.estimator.inputs.pandas_input_fn(x=X_train,y=y_train,batch_size=100,num_epochs=None,shuffle=True)"
      ],
      "execution_count": 0,
      "outputs": []
    },
    {
      "cell_type": "code",
      "metadata": {
        "id": "Vt2P6RAb8N9x",
        "colab_type": "code",
        "colab": {
          "base_uri": "https://localhost:8080/",
          "height": 187
        },
        "outputId": "bcf4f045-0908-4041-e365-a2151f4aa6bf"
      },
      "source": [
        "model = tf.estimator.LinearClassifier(feature_columns=feat_cols)"
      ],
      "execution_count": 14,
      "outputs": [
        {
          "output_type": "stream",
          "text": [
            "INFO:tensorflow:Using default config.\n",
            "WARNING:tensorflow:Using temporary folder as model directory: /tmp/tmpqltxwov6\n",
            "INFO:tensorflow:Using config: {'_model_dir': '/tmp/tmpqltxwov6', '_tf_random_seed': None, '_save_summary_steps': 100, '_save_checkpoints_steps': None, '_save_checkpoints_secs': 600, '_session_config': allow_soft_placement: true\n",
            "graph_options {\n",
            "  rewrite_options {\n",
            "    meta_optimizer_iterations: ONE\n",
            "  }\n",
            "}\n",
            ", '_keep_checkpoint_max': 5, '_keep_checkpoint_every_n_hours': 10000, '_log_step_count_steps': 100, '_train_distribute': None, '_device_fn': None, '_protocol': None, '_eval_distribute': None, '_experimental_distribute': None, '_experimental_max_worker_delay_secs': None, '_session_creation_timeout_secs': 7200, '_service': None, '_cluster_spec': <tensorflow.python.training.server_lib.ClusterSpec object at 0x7f5e70972828>, '_task_type': 'worker', '_task_id': 0, '_global_id_in_cluster': 0, '_master': '', '_evaluation_master': '', '_is_chief': True, '_num_ps_replicas': 0, '_num_worker_replicas': 1}\n"
          ],
          "name": "stdout"
        }
      ]
    },
    {
      "cell_type": "code",
      "metadata": {
        "id": "XswaqioQ8N90",
        "colab_type": "code",
        "colab": {
          "base_uri": "https://localhost:8080/",
          "height": 1000
        },
        "outputId": "5f6f28b9-da3c-43e5-c752-5ad48459f7dc"
      },
      "source": [
        "model.train(input_fn=input_func,steps=5000)"
      ],
      "execution_count": 15,
      "outputs": [
        {
          "output_type": "stream",
          "text": [
            "WARNING:tensorflow:From /usr/local/lib/python3.6/dist-packages/tensorflow_core/python/training/training_util.py:236: Variable.initialized_value (from tensorflow.python.ops.variables) is deprecated and will be removed in a future version.\n",
            "Instructions for updating:\n",
            "Use Variable.read_value. Variables in 2.X are initialized automatically both in eager and graph (inside tf.defun) contexts.\n",
            "WARNING:tensorflow:From /usr/local/lib/python3.6/dist-packages/tensorflow_estimator/python/estimator/inputs/queues/feeding_queue_runner.py:62: QueueRunner.__init__ (from tensorflow.python.training.queue_runner_impl) is deprecated and will be removed in a future version.\n",
            "Instructions for updating:\n",
            "To construct input pipelines, use the `tf.data` module.\n",
            "WARNING:tensorflow:From /usr/local/lib/python3.6/dist-packages/tensorflow_estimator/python/estimator/inputs/queues/feeding_functions.py:500: add_queue_runner (from tensorflow.python.training.queue_runner_impl) is deprecated and will be removed in a future version.\n",
            "Instructions for updating:\n",
            "To construct input pipelines, use the `tf.data` module.\n",
            "INFO:tensorflow:Calling model_fn.\n",
            "WARNING:tensorflow:From /usr/local/lib/python3.6/dist-packages/tensorflow_core/python/feature_column/feature_column_v2.py:305: Layer.add_variable (from tensorflow.python.keras.engine.base_layer) is deprecated and will be removed in a future version.\n",
            "Instructions for updating:\n",
            "Please use `layer.add_weight` method instead.\n",
            "WARNING:tensorflow:From /usr/local/lib/python3.6/dist-packages/tensorflow_core/python/ops/resource_variable_ops.py:1630: calling BaseResourceVariable.__init__ (from tensorflow.python.ops.resource_variable_ops) with constraint is deprecated and will be removed in a future version.\n",
            "Instructions for updating:\n",
            "If using Keras pass *_constraint arguments to layers.\n",
            "WARNING:tensorflow:From /usr/local/lib/python3.6/dist-packages/tensorflow_core/python/ops/embedding_ops.py:802: where (from tensorflow.python.ops.array_ops) is deprecated and will be removed in a future version.\n",
            "Instructions for updating:\n",
            "Use tf.where in 2.0, which has the same broadcast rule as np.where\n",
            "WARNING:tensorflow:From /usr/local/lib/python3.6/dist-packages/tensorflow_estimator/python/estimator/canned/linear.py:308: to_float (from tensorflow.python.ops.math_ops) is deprecated and will be removed in a future version.\n",
            "Instructions for updating:\n",
            "Use `tf.cast` instead.\n",
            "INFO:tensorflow:Done calling model_fn.\n",
            "INFO:tensorflow:Create CheckpointSaverHook.\n",
            "INFO:tensorflow:Graph was finalized.\n",
            "INFO:tensorflow:Running local_init_op.\n",
            "INFO:tensorflow:Done running local_init_op.\n",
            "WARNING:tensorflow:From /usr/local/lib/python3.6/dist-packages/tensorflow_core/python/training/monitored_session.py:882: start_queue_runners (from tensorflow.python.training.queue_runner_impl) is deprecated and will be removed in a future version.\n",
            "Instructions for updating:\n",
            "To construct input pipelines, use the `tf.data` module.\n",
            "INFO:tensorflow:Saving checkpoints for 0 into /tmp/tmpqltxwov6/model.ckpt.\n",
            "INFO:tensorflow:loss = 69.31472, step = 0\n",
            "INFO:tensorflow:global_step/sec: 44.369\n",
            "INFO:tensorflow:loss = 175.85474, step = 100 (2.257 sec)\n",
            "INFO:tensorflow:global_step/sec: 48.342\n",
            "INFO:tensorflow:loss = 93.8124, step = 200 (2.069 sec)\n",
            "INFO:tensorflow:global_step/sec: 50.2566\n",
            "INFO:tensorflow:loss = 59.146698, step = 300 (1.990 sec)\n",
            "INFO:tensorflow:global_step/sec: 49.9971\n",
            "INFO:tensorflow:loss = 168.31693, step = 400 (2.000 sec)\n",
            "INFO:tensorflow:global_step/sec: 49.3485\n",
            "INFO:tensorflow:loss = 176.85355, step = 500 (2.027 sec)\n",
            "INFO:tensorflow:global_step/sec: 49.9315\n",
            "INFO:tensorflow:loss = 57.80355, step = 600 (2.001 sec)\n",
            "INFO:tensorflow:global_step/sec: 49.3066\n",
            "INFO:tensorflow:loss = 445.57104, step = 700 (2.032 sec)\n",
            "INFO:tensorflow:global_step/sec: 49.0152\n",
            "INFO:tensorflow:loss = 245.0395, step = 800 (2.039 sec)\n",
            "INFO:tensorflow:global_step/sec: 50.2407\n",
            "INFO:tensorflow:loss = 77.183395, step = 900 (1.991 sec)\n",
            "INFO:tensorflow:global_step/sec: 50.1804\n",
            "INFO:tensorflow:loss = 81.337204, step = 1000 (1.993 sec)\n",
            "INFO:tensorflow:global_step/sec: 49.5671\n",
            "INFO:tensorflow:loss = 146.34879, step = 1100 (2.016 sec)\n",
            "INFO:tensorflow:global_step/sec: 50.3619\n",
            "INFO:tensorflow:loss = 75.72168, step = 1200 (1.985 sec)\n",
            "INFO:tensorflow:global_step/sec: 49.3925\n",
            "INFO:tensorflow:loss = 130.53976, step = 1300 (2.024 sec)\n",
            "INFO:tensorflow:global_step/sec: 49.3214\n",
            "INFO:tensorflow:loss = 152.942, step = 1400 (2.030 sec)\n",
            "INFO:tensorflow:global_step/sec: 50.7565\n",
            "INFO:tensorflow:loss = 28.729694, step = 1500 (1.971 sec)\n",
            "INFO:tensorflow:global_step/sec: 49.5485\n",
            "INFO:tensorflow:loss = 127.766266, step = 1600 (2.019 sec)\n",
            "INFO:tensorflow:global_step/sec: 50.4022\n",
            "INFO:tensorflow:loss = 61.442352, step = 1700 (1.984 sec)\n",
            "INFO:tensorflow:global_step/sec: 50.1068\n",
            "INFO:tensorflow:loss = 26.856913, step = 1800 (1.994 sec)\n",
            "INFO:tensorflow:global_step/sec: 49.1484\n",
            "INFO:tensorflow:loss = 74.313156, step = 1900 (2.037 sec)\n",
            "INFO:tensorflow:global_step/sec: 49.4454\n",
            "INFO:tensorflow:loss = 182.07928, step = 2000 (2.023 sec)\n",
            "INFO:tensorflow:global_step/sec: 48.9846\n",
            "INFO:tensorflow:loss = 145.57907, step = 2100 (2.040 sec)\n",
            "INFO:tensorflow:global_step/sec: 48.9996\n",
            "INFO:tensorflow:loss = 53.70543, step = 2200 (2.040 sec)\n",
            "INFO:tensorflow:global_step/sec: 49.7053\n",
            "INFO:tensorflow:loss = 107.51952, step = 2300 (2.010 sec)\n",
            "INFO:tensorflow:global_step/sec: 50.1966\n",
            "INFO:tensorflow:loss = 52.21444, step = 2400 (1.996 sec)\n",
            "INFO:tensorflow:global_step/sec: 49.9833\n",
            "INFO:tensorflow:loss = 79.4227, step = 2500 (1.998 sec)\n",
            "INFO:tensorflow:global_step/sec: 50.6931\n",
            "INFO:tensorflow:loss = 71.7557, step = 2600 (1.976 sec)\n",
            "INFO:tensorflow:global_step/sec: 49.1062\n",
            "INFO:tensorflow:loss = 40.749435, step = 2700 (2.035 sec)\n",
            "INFO:tensorflow:global_step/sec: 49.4514\n",
            "INFO:tensorflow:loss = 35.617577, step = 2800 (2.019 sec)\n",
            "INFO:tensorflow:global_step/sec: 49.0022\n",
            "INFO:tensorflow:loss = 63.86865, step = 2900 (2.043 sec)\n",
            "INFO:tensorflow:global_step/sec: 49.1949\n",
            "INFO:tensorflow:loss = 49.256454, step = 3000 (2.035 sec)\n",
            "INFO:tensorflow:global_step/sec: 49.595\n",
            "INFO:tensorflow:loss = 65.14671, step = 3100 (2.014 sec)\n",
            "INFO:tensorflow:global_step/sec: 49.4904\n",
            "INFO:tensorflow:loss = 274.97888, step = 3200 (2.022 sec)\n",
            "INFO:tensorflow:global_step/sec: 49.6475\n",
            "INFO:tensorflow:loss = 200.07129, step = 3300 (2.011 sec)\n",
            "INFO:tensorflow:global_step/sec: 48.6779\n",
            "INFO:tensorflow:loss = 61.872124, step = 3400 (2.058 sec)\n",
            "INFO:tensorflow:global_step/sec: 49.7846\n",
            "INFO:tensorflow:loss = 181.76471, step = 3500 (2.008 sec)\n",
            "INFO:tensorflow:global_step/sec: 49.5091\n",
            "INFO:tensorflow:loss = 29.239454, step = 3600 (2.024 sec)\n",
            "INFO:tensorflow:global_step/sec: 49.7349\n",
            "INFO:tensorflow:loss = 75.12257, step = 3700 (2.004 sec)\n",
            "INFO:tensorflow:global_step/sec: 50.8293\n",
            "INFO:tensorflow:loss = 28.192076, step = 3800 (1.969 sec)\n",
            "INFO:tensorflow:global_step/sec: 50.1196\n",
            "INFO:tensorflow:loss = 51.111275, step = 3900 (1.994 sec)\n",
            "INFO:tensorflow:global_step/sec: 49.0579\n",
            "INFO:tensorflow:loss = 91.355064, step = 4000 (2.039 sec)\n",
            "INFO:tensorflow:global_step/sec: 49.628\n",
            "INFO:tensorflow:loss = 38.21031, step = 4100 (2.015 sec)\n",
            "INFO:tensorflow:global_step/sec: 48.9385\n",
            "INFO:tensorflow:loss = 66.684784, step = 4200 (2.040 sec)\n",
            "INFO:tensorflow:global_step/sec: 50.955\n",
            "INFO:tensorflow:loss = 157.68257, step = 4300 (1.965 sec)\n",
            "INFO:tensorflow:global_step/sec: 50.1255\n",
            "INFO:tensorflow:loss = 31.094713, step = 4400 (1.994 sec)\n",
            "INFO:tensorflow:global_step/sec: 50.4977\n",
            "INFO:tensorflow:loss = 32.06523, step = 4500 (1.979 sec)\n",
            "INFO:tensorflow:global_step/sec: 50.7332\n",
            "INFO:tensorflow:loss = 47.791092, step = 4600 (1.975 sec)\n",
            "INFO:tensorflow:global_step/sec: 49.8798\n",
            "INFO:tensorflow:loss = 56.94385, step = 4700 (2.004 sec)\n",
            "INFO:tensorflow:global_step/sec: 50.0264\n",
            "INFO:tensorflow:loss = 65.57842, step = 4800 (2.000 sec)\n",
            "INFO:tensorflow:global_step/sec: 50.1341\n",
            "INFO:tensorflow:loss = 38.092457, step = 4900 (1.992 sec)\n",
            "INFO:tensorflow:Saving checkpoints for 5000 into /tmp/tmpqltxwov6/model.ckpt.\n",
            "INFO:tensorflow:Loss for final step: 55.7852.\n"
          ],
          "name": "stdout"
        },
        {
          "output_type": "execute_result",
          "data": {
            "text/plain": [
              "<tensorflow_estimator.python.estimator.canned.linear.LinearClassifier at 0x7f5e70972358>"
            ]
          },
          "metadata": {
            "tags": []
          },
          "execution_count": 15
        }
      ]
    },
    {
      "cell_type": "markdown",
      "metadata": {
        "id": "SHDyR30Q8N94",
        "colab_type": "text"
      },
      "source": [
        "### Evaluation"
      ]
    },
    {
      "cell_type": "code",
      "metadata": {
        "id": "Eka0wGGR8N96",
        "colab_type": "code",
        "colab": {}
      },
      "source": [
        "pred_fn = tf.estimator.inputs.pandas_input_fn(x=X_test,batch_size=len(X_test),shuffle=False)"
      ],
      "execution_count": 0,
      "outputs": []
    },
    {
      "cell_type": "code",
      "metadata": {
        "id": "5CT6u-qO8N99",
        "colab_type": "code",
        "colab": {
          "base_uri": "https://localhost:8080/",
          "height": 117
        },
        "outputId": "cd0a5781-594a-4df0-bd3c-345f904e3548"
      },
      "source": [
        "predictions = list(model.predict(input_fn=pred_fn))"
      ],
      "execution_count": 17,
      "outputs": [
        {
          "output_type": "stream",
          "text": [
            "INFO:tensorflow:Calling model_fn.\n",
            "INFO:tensorflow:Done calling model_fn.\n",
            "INFO:tensorflow:Graph was finalized.\n",
            "INFO:tensorflow:Restoring parameters from /tmp/tmpqltxwov6/model.ckpt-5000\n",
            "INFO:tensorflow:Running local_init_op.\n",
            "INFO:tensorflow:Done running local_init_op.\n"
          ],
          "name": "stdout"
        }
      ]
    },
    {
      "cell_type": "code",
      "metadata": {
        "id": "wt8w9XSC8N-A",
        "colab_type": "code",
        "colab": {
          "base_uri": "https://localhost:8080/",
          "height": 134
        },
        "outputId": "32730e43-cc93-419e-d773-3deda08e704f"
      },
      "source": [
        "predictions[0]"
      ],
      "execution_count": 18,
      "outputs": [
        {
          "output_type": "execute_result",
          "data": {
            "text/plain": [
              "{'all_class_ids': array([0, 1], dtype=int32),\n",
              " 'all_classes': array([b'0', b'1'], dtype=object),\n",
              " 'class_ids': array([0]),\n",
              " 'classes': array([b'0'], dtype=object),\n",
              " 'logistic': array([0.36356634], dtype=float32),\n",
              " 'logits': array([-0.5599184], dtype=float32),\n",
              " 'probabilities': array([0.63643366, 0.36356634], dtype=float32)}"
            ]
          },
          "metadata": {
            "tags": []
          },
          "execution_count": 18
        }
      ]
    },
    {
      "cell_type": "code",
      "metadata": {
        "id": "6yfRO-MT8N-F",
        "colab_type": "code",
        "colab": {}
      },
      "source": [
        "final_preds = []\n",
        "for pred in predictions:\n",
        "    final_preds.append(pred['class_ids'][0])"
      ],
      "execution_count": 0,
      "outputs": []
    },
    {
      "cell_type": "code",
      "metadata": {
        "id": "rhaFOcAg8N-H",
        "colab_type": "code",
        "colab": {
          "base_uri": "https://localhost:8080/",
          "height": 33
        },
        "outputId": "75375d84-fb9a-4d5f-e059-a723159a7c6c"
      },
      "source": [
        "final_preds[:10]"
      ],
      "execution_count": 20,
      "outputs": [
        {
          "output_type": "execute_result",
          "data": {
            "text/plain": [
              "[0, 0, 0, 0, 1, 0, 0, 0, 0, 0]"
            ]
          },
          "metadata": {
            "tags": []
          },
          "execution_count": 20
        }
      ]
    },
    {
      "cell_type": "code",
      "metadata": {
        "id": "ZrvNJZgz8N-K",
        "colab_type": "code",
        "colab": {}
      },
      "source": [
        "from sklearn.metrics import classification_report"
      ],
      "execution_count": 0,
      "outputs": []
    },
    {
      "cell_type": "code",
      "metadata": {
        "id": "p-8FGWJ08N-N",
        "colab_type": "code",
        "colab": {
          "base_uri": "https://localhost:8080/",
          "height": 167
        },
        "outputId": "2129d687-8373-4b0b-9c23-c7054a723ccb"
      },
      "source": [
        "print(classification_report(y_test,final_preds))"
      ],
      "execution_count": 22,
      "outputs": [
        {
          "output_type": "stream",
          "text": [
            "              precision    recall  f1-score   support\n",
            "\n",
            "           0       0.91      0.86      0.88      7436\n",
            "           1       0.61      0.72      0.66      2333\n",
            "\n",
            "    accuracy                           0.82      9769\n",
            "   macro avg       0.76      0.79      0.77      9769\n",
            "weighted avg       0.84      0.82      0.83      9769\n",
            "\n"
          ],
          "name": "stdout"
        }
      ]
    }
  ]
}