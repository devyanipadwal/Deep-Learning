{
  "nbformat": 4,
  "nbformat_minor": 0,
  "metadata": {
    "kernelspec": {
      "display_name": "Python 3",
      "language": "python",
      "name": "python3"
    },
    "language_info": {
      "codemirror_mode": {
        "name": "ipython",
        "version": 3
      },
      "file_extension": ".py",
      "mimetype": "text/x-python",
      "name": "python",
      "nbconvert_exporter": "python",
      "pygments_lexer": "ipython3",
      "version": "3.7.1"
    },
    "colab": {
      "name": "RNN_TF-API.ipynb",
      "provenance": [],
      "collapsed_sections": []
    },
    "accelerator": "GPU"
  },
  "cells": [
    {
      "cell_type": "code",
      "metadata": {
        "id": "zmpgGz93DBqo",
        "colab_type": "code",
        "colab": {}
      },
      "source": [
        "import numpy as np\n",
        "import tensorflow as tf\n",
        "import matplotlib.pyplot as plt\n",
        "%matplotlib inline"
      ],
      "execution_count": 0,
      "outputs": []
    },
    {
      "cell_type": "markdown",
      "metadata": {
        "id": "nobFiAM3DBqu",
        "colab_type": "text"
      },
      "source": [
        "### Data"
      ]
    },
    {
      "cell_type": "code",
      "metadata": {
        "id": "ucxjlv7dDBqu",
        "colab_type": "code",
        "colab": {}
      },
      "source": [
        "class TimeSeriesData():\n",
        "    \n",
        "    def __init__(self,num_points,xmin,xmax):\n",
        "        \n",
        "        self.xmin = xmin\n",
        "        self.xmax = xmax\n",
        "        self.num_points = num_points\n",
        "        self.resolution = (xmax-xmin)/num_points\n",
        "        self.x_data = np.linspace(xmin,xmax,num_points)\n",
        "        self.y_true = np.sin(self.x_data)\n",
        "    \n",
        "    def ret_true(self,x_series):\n",
        "        return np.sin(x_series)\n",
        "    \n",
        "    def next_batch(self,batch_size,steps,return_batch_ts=False):\n",
        "        \n",
        "        rand_start = np.random.rand(batch_size,1) \n",
        "        \n",
        "        ts_start = rand_start * (self.xmax- self.xmin - (steps*self.resolution) )\n",
        "        \n",
        "        batch_ts = ts_start + np.arange(0.0,steps+1) * self.resolution\n",
        "        \n",
        "        y_batch = np.sin(batch_ts)\n",
        "        \n",
        "        if return_batch_ts:\n",
        "            return y_batch[:, :-1].reshape(-1, steps, 1), y_batch[:, 1:].reshape(-1, steps, 1) ,batch_ts\n",
        "        \n",
        "        else:\n",
        "            \n",
        "            return y_batch[:, :-1].reshape(-1, steps, 1), y_batch[:, 1:].reshape(-1, steps, 1) \n",
        "        "
      ],
      "execution_count": 0,
      "outputs": []
    },
    {
      "cell_type": "code",
      "metadata": {
        "id": "kB9uvPsyDBqz",
        "colab_type": "code",
        "colab": {}
      },
      "source": [
        "ts_data = TimeSeriesData(250,0,10)"
      ],
      "execution_count": 0,
      "outputs": []
    },
    {
      "cell_type": "code",
      "metadata": {
        "id": "MzpKZBpfDBq2",
        "colab_type": "code",
        "colab": {
          "base_uri": "https://localhost:8080/",
          "height": 281
        },
        "outputId": "4a1adc85-d41c-41d9-b55f-bdb4f4df1c70"
      },
      "source": [
        "plt.plot(ts_data.x_data,ts_data.y_true)"
      ],
      "execution_count": 4,
      "outputs": [
        {
          "output_type": "execute_result",
          "data": {
            "text/plain": [
              "[<matplotlib.lines.Line2D at 0x7fcc904e8e10>]"
            ]
          },
          "metadata": {
            "tags": []
          },
          "execution_count": 4
        },
        {
          "output_type": "display_data",
          "data": {
            "image/png": "[encoded data removed]",
            "text/plain": [
              "<Figure size 432x288 with 1 Axes>"
            ]
          },
          "metadata": {
            "tags": [],
            "needs_background": "light"
          }
        }
      ]
    },
    {
      "cell_type": "code",
      "metadata": {
        "id": "gDntA3GWDBq6",
        "colab_type": "code",
        "colab": {}
      },
      "source": [
        "num_time_steps = 30"
      ],
      "execution_count": 0,
      "outputs": []
    },
    {
      "cell_type": "code",
      "metadata": {
        "id": "cDxg_WEXDBq-",
        "colab_type": "code",
        "colab": {}
      },
      "source": [
        "y1,y2,ts = ts_data.next_batch(1,num_time_steps,True)"
      ],
      "execution_count": 0,
      "outputs": []
    },
    {
      "cell_type": "code",
      "metadata": {
        "id": "tiCDRW-fDBrE",
        "colab_type": "code",
        "colab": {
          "base_uri": "https://localhost:8080/",
          "height": 281
        },
        "outputId": "34552e03-4b8b-494e-9142-6b72d3d5d42b"
      },
      "source": [
        "plt.plot(ts.flatten()[1:],y2.flatten(),'*')"
      ],
      "execution_count": 7,
      "outputs": [
        {
          "output_type": "execute_result",
          "data": {
            "text/plain": [
              "[<matplotlib.lines.Line2D at 0x7fcc8ffcc710>]"
            ]
          },
          "metadata": {
            "tags": []
          },
          "execution_count": 7
        },
        {
          "output_type": "display_data",
          "data": {
            "image/png": "[encoded data removed]",
            "text/plain": [
              "<Figure size 432x288 with 1 Axes>"
            ]
          },
          "metadata": {
            "tags": [],
            "needs_background": "light"
          }
        }
      ]
    },
    {
      "cell_type": "code",
      "metadata": {
        "id": "i4hnLoO1DBrH",
        "colab_type": "code",
        "colab": {
          "base_uri": "https://localhost:8080/",
          "height": 297
        },
        "outputId": "7fd5fb15-7b54-4901-8867-35f78c60ce39"
      },
      "source": [
        "plt.plot(ts_data.x_data,ts_data.y_true,label='Sin(t)')\n",
        "plt.plot(ts.flatten()[1:],y2.flatten(),'*',label='Single Training Instance')\n",
        "plt.legend()\n",
        "plt.tight_layout()"
      ],
      "execution_count": 8,
      "outputs": [
        {
          "output_type": "display_data",
          "data": {
            "image/png": "[encoded data removed]",
            "text/plain": [
              "<Figure size 432x288 with 1 Axes>"
            ]
          },
          "metadata": {
            "tags": [],
            "needs_background": "light"
          }
        }
      ]
    },
    {
      "cell_type": "markdown",
      "metadata": {
        "id": "xdFll0BzDBrL",
        "colab_type": "text"
      },
      "source": [
        "### Training Instance"
      ]
    },
    {
      "cell_type": "code",
      "metadata": {
        "id": "Bef4xoksDBrL",
        "colab_type": "code",
        "colab": {}
      },
      "source": [
        "train_inst = np.linspace(5,5 + ts_data.resolution * (num_time_steps + 1), num_time_steps+1)"
      ],
      "execution_count": 0,
      "outputs": []
    },
    {
      "cell_type": "code",
      "metadata": {
        "id": "8F5hv7pGDBrP",
        "colab_type": "code",
        "colab": {
          "base_uri": "https://localhost:8080/",
          "height": 299
        },
        "outputId": "9bb75d47-18a5-4771-b2cc-18e3851530e4"
      },
      "source": [
        "plt.title(\"A training instance\", fontsize=14)\n",
        "plt.plot(train_inst[:-1], ts_data.ret_true(train_inst[:-1]), \"bo\", markersize=15,alpha=0.5 ,label=\"instance\")\n",
        "plt.plot(train_inst[1:], ts_data.ret_true(train_inst[1:]), \"ko\", markersize=7, label=\"target\")"
      ],
      "execution_count": 10,
      "outputs": [
        {
          "output_type": "execute_result",
          "data": {
            "text/plain": [
              "[<matplotlib.lines.Line2D at 0x7fcc8d723748>]"
            ]
          },
          "metadata": {
            "tags": []
          },
          "execution_count": 10
        },
        {
          "output_type": "display_data",
          "data": {
            "image/png": "[encoded data removed]",
            "text/plain": [
              "<Figure size 432x288 with 1 Axes>"
            ]
          },
          "metadata": {
            "tags": [],
            "needs_background": "light"
          }
        }
      ]
    },
    {
      "cell_type": "markdown",
      "metadata": {
        "id": "Kojo13ldDBrT",
        "colab_type": "text"
      },
      "source": [
        "# Creating the Model"
      ]
    },
    {
      "cell_type": "code",
      "metadata": {
        "id": "7YezUXY6DBrT",
        "colab_type": "code",
        "colab": {}
      },
      "source": [
        "tf.reset_default_graph()"
      ],
      "execution_count": 0,
      "outputs": []
    },
    {
      "cell_type": "markdown",
      "metadata": {
        "id": "RekLk87nDBrX",
        "colab_type": "text"
      },
      "source": [
        "### Constants"
      ]
    },
    {
      "cell_type": "code",
      "metadata": {
        "id": "o8ROVcaODBrY",
        "colab_type": "code",
        "colab": {}
      },
      "source": [
        "num_inputs = 1\n",
        "num_neurons = 100\n",
        "num_outputs = 1\n",
        "learning_rate = 0.0001\n",
        "num_train_iterations = 2000\n",
        "batch_size = 1"
      ],
      "execution_count": 0,
      "outputs": []
    },
    {
      "cell_type": "markdown",
      "metadata": {
        "id": "yVTq1THJDBrb",
        "colab_type": "text"
      },
      "source": [
        "### Placeholders"
      ]
    },
    {
      "cell_type": "code",
      "metadata": {
        "id": "Sq0my2niDBrb",
        "colab_type": "code",
        "colab": {}
      },
      "source": [
        "X = tf.placeholder(tf.float32, [None, num_time_steps, num_inputs])\n",
        "y = tf.placeholder(tf.float32, [None, num_time_steps, num_outputs])"
      ],
      "execution_count": 0,
      "outputs": []
    },
    {
      "cell_type": "markdown",
      "metadata": {
        "id": "UnCMhD3aDBrf",
        "colab_type": "text"
      },
      "source": [
        "### RNN Cell Layer"
      ]
    },
    {
      "cell_type": "code",
      "metadata": {
        "id": "xDQYcuzzDBrg",
        "colab_type": "code",
        "colab": {
          "base_uri": "https://localhost:8080/",
          "height": 221
        },
        "outputId": "56b2e85a-0568-4ded-a4a7-7179e64a04fd"
      },
      "source": [
        "cell = tf.contrib.rnn.OutputProjectionWrapper(\n",
        "    tf.contrib.rnn.BasicRNNCell(num_units=num_neurons, activation=tf.nn.relu),\n",
        "    output_size=num_outputs)"
      ],
      "execution_count": 14,
      "outputs": [
        {
          "output_type": "stream",
          "text": [
            "WARNING:tensorflow:\n",
            "The TensorFlow contrib module will not be included in TensorFlow 2.0.\n",
            "For more information, please see:\n",
            "  * https://github.com/tensorflow/community/blob/master/rfcs/20180907-contrib-sunset.md\n",
            "  * https://github.com/tensorflow/addons\n",
            "  * https://github.com/tensorflow/io (for I/O related ops)\n",
            "If you depend on functionality not listed there, please file an issue.\n",
            "\n",
            "WARNING:tensorflow:From <ipython-input-14-9699526a1c2c>:2: BasicRNNCell.__init__ (from tensorflow.python.ops.rnn_cell_impl) is deprecated and will be removed in a future version.\n",
            "Instructions for updating:\n",
            "This class is equivalent as tf.keras.layers.SimpleRNNCell, and will be replaced by that in Tensorflow 2.0.\n"
          ],
          "name": "stdout"
        }
      ]
    },
    {
      "cell_type": "code",
      "metadata": {
        "id": "Y_ZzAr5GDBrk",
        "colab_type": "code",
        "colab": {}
      },
      "source": [
        "# cell = tf.contrib.rnn.OutputProjectionWrapper(\n",
        "#     tf.contrib.rnn.BasicLSTMCell(num_units=num_neurons, activation=tf.nn.relu),\n",
        "#     output_size=num_outputs)"
      ],
      "execution_count": 0,
      "outputs": []
    },
    {
      "cell_type": "code",
      "metadata": {
        "id": "txGHXj0zDBro",
        "colab_type": "code",
        "colab": {}
      },
      "source": [
        "# n_neurons = 100\n",
        "# n_layers = 3\n",
        "\n",
        "# cell = tf.contrib.rnn.MultiRNNCell([tf.contrib.rnn.BasicRNNCell(num_units=n_neurons)\n",
        "#           for layer in range(n_layers)])"
      ],
      "execution_count": 0,
      "outputs": []
    },
    {
      "cell_type": "code",
      "metadata": {
        "id": "Q58Cp3MZDBrt",
        "colab_type": "code",
        "colab": {}
      },
      "source": [
        "# cell = tf.contrib.rnn.BasicLSTMCell(num_units=num_neurons, activation=tf.nn.relu)"
      ],
      "execution_count": 0,
      "outputs": []
    },
    {
      "cell_type": "code",
      "metadata": {
        "id": "GpXQZ5FrDBrw",
        "colab_type": "code",
        "colab": {}
      },
      "source": [
        "# n_neurons = 100\n",
        "# n_layers = 3\n",
        "\n",
        "# cell = tf.contrib.rnn.MultiRNNCell([tf.contrib.rnn.BasicLSTMCell(num_units=n_neurons)\n",
        "#           for layer in range(n_layers)])"
      ],
      "execution_count": 0,
      "outputs": []
    },
    {
      "cell_type": "markdown",
      "metadata": {
        "id": "rDHXJb-0DBr0",
        "colab_type": "text"
      },
      "source": [
        "### Dynamic RNN Cell"
      ]
    },
    {
      "cell_type": "code",
      "metadata": {
        "id": "so-mD9v3DBr0",
        "colab_type": "code",
        "colab": {
          "base_uri": "https://localhost:8080/",
          "height": 237
        },
        "outputId": "c1ab9d65-de09-4324-8246-5d7d80f0ada0"
      },
      "source": [
        "outputs, states = tf.nn.dynamic_rnn(cell, X, dtype=tf.float32)"
      ],
      "execution_count": 19,
      "outputs": [
        {
          "output_type": "stream",
          "text": [
            "WARNING:tensorflow:From <ipython-input-19-f7b88a02a855>:1: dynamic_rnn (from tensorflow.python.ops.rnn) is deprecated and will be removed in a future version.\n",
            "Instructions for updating:\n",
            "Please use `keras.layers.RNN(cell)`, which is equivalent to this API\n",
            "WARNING:tensorflow:From /usr/local/lib/python3.6/dist-packages/tensorflow_core/python/ops/rnn_cell_impl.py:456: Layer.add_variable (from tensorflow.python.keras.engine.base_layer) is deprecated and will be removed in a future version.\n",
            "Instructions for updating:\n",
            "Please use `layer.add_weight` method instead.\n",
            "WARNING:tensorflow:From /usr/local/lib/python3.6/dist-packages/tensorflow_core/python/ops/rnn_cell_impl.py:460: calling Zeros.__init__ (from tensorflow.python.ops.init_ops) with dtype is deprecated and will be removed in a future version.\n",
            "Instructions for updating:\n",
            "Call initializer instance with the dtype argument instead of passing it to the constructor\n",
            "WARNING:tensorflow:From /usr/local/lib/python3.6/dist-packages/tensorflow_core/contrib/rnn/python/ops/core_rnn_cell.py:104: calling Constant.__init__ (from tensorflow.python.ops.init_ops) with dtype is deprecated and will be removed in a future version.\n",
            "Instructions for updating:\n",
            "Call initializer instance with the dtype argument instead of passing it to the constructor\n"
          ],
          "name": "stdout"
        }
      ]
    },
    {
      "cell_type": "markdown",
      "metadata": {
        "id": "EHzkogBvDBr3",
        "colab_type": "text"
      },
      "source": [
        "### Loss Function and Optimizer"
      ]
    },
    {
      "cell_type": "code",
      "metadata": {
        "id": "ydcRk4eGDBr3",
        "colab_type": "code",
        "colab": {}
      },
      "source": [
        "loss = tf.reduce_mean(tf.square(outputs - y)) # MSE\n",
        "optimizer = tf.train.AdamOptimizer(learning_rate=learning_rate)\n",
        "train = optimizer.minimize(loss)"
      ],
      "execution_count": 0,
      "outputs": []
    },
    {
      "cell_type": "markdown",
      "metadata": {
        "id": "PYdqwf3YDBr6",
        "colab_type": "text"
      },
      "source": [
        "#### Init Variables"
      ]
    },
    {
      "cell_type": "code",
      "metadata": {
        "id": "YIjs3gkrDBr7",
        "colab_type": "code",
        "colab": {}
      },
      "source": [
        "init = tf.global_variables_initializer()"
      ],
      "execution_count": 0,
      "outputs": []
    },
    {
      "cell_type": "markdown",
      "metadata": {
        "id": "qvO17gYuDBr-",
        "colab_type": "text"
      },
      "source": [
        "## Session"
      ]
    },
    {
      "cell_type": "code",
      "metadata": {
        "id": "9lQ6ulR5DBr-",
        "colab_type": "code",
        "colab": {}
      },
      "source": [
        "gpu_options = tf.GPUOptions(per_process_gpu_memory_fraction=0.75)"
      ],
      "execution_count": 0,
      "outputs": []
    },
    {
      "cell_type": "code",
      "metadata": {
        "id": "l832fKSmDBsC",
        "colab_type": "code",
        "colab": {}
      },
      "source": [
        "saver = tf.train.Saver()"
      ],
      "execution_count": 0,
      "outputs": []
    },
    {
      "cell_type": "code",
      "metadata": {
        "id": "f6vZyFNoDBsF",
        "colab_type": "code",
        "colab": {
          "base_uri": "https://localhost:8080/",
          "height": 351
        },
        "outputId": "8c7cbc3d-eddd-4642-9fe6-f33cdcae9aa3"
      },
      "source": [
        "with tf.Session(config=tf.ConfigProto(gpu_options=gpu_options)) as sess:\n",
        "    sess.run(init)\n",
        "    \n",
        "    for iteration in range(num_train_iterations):\n",
        "        \n",
        "        X_batch, y_batch = ts_data.next_batch(batch_size, num_time_steps)\n",
        "        sess.run(train, feed_dict={X: X_batch, y: y_batch})\n",
        "        \n",
        "        if iteration % 100 == 0:\n",
        "            \n",
        "            mse = loss.eval(feed_dict={X: X_batch, y: y_batch})\n",
        "            print(iteration, \"\\tMSE:\", mse)\n",
        "    \n",
        "    # Save Model for Later\n",
        "    saver.save(sess, \"./rnn_time_series_model\")"
      ],
      "execution_count": 24,
      "outputs": [
        {
          "output_type": "stream",
          "text": [
            "0 \tMSE: 0.29075605\n",
            "100 \tMSE: 0.1955794\n",
            "200 \tMSE: 0.028851831\n",
            "300 \tMSE: 0.017110713\n",
            "400 \tMSE: 0.018281344\n",
            "500 \tMSE: 0.0329559\n",
            "600 \tMSE: 0.02367238\n",
            "700 \tMSE: 0.009514138\n",
            "800 \tMSE: 0.005944125\n",
            "900 \tMSE: 0.011181321\n",
            "1000 \tMSE: 0.019901164\n",
            "1100 \tMSE: 0.011442897\n",
            "1200 \tMSE: 0.009465343\n",
            "1300 \tMSE: 0.0032251168\n",
            "1400 \tMSE: 0.0060024615\n",
            "1500 \tMSE: 0.00041410603\n",
            "1600 \tMSE: 0.0019846582\n",
            "1700 \tMSE: 0.004094489\n",
            "1800 \tMSE: 0.0018154248\n",
            "1900 \tMSE: 0.011019034\n"
          ],
          "name": "stdout"
        }
      ]
    },
    {
      "cell_type": "markdown",
      "metadata": {
        "id": "ZgVWA14rDBsI",
        "colab_type": "text"
      },
      "source": [
        "### Predicting a time series t+1"
      ]
    },
    {
      "cell_type": "code",
      "metadata": {
        "id": "XAFSimUYDBsI",
        "colab_type": "code",
        "colab": {
          "base_uri": "https://localhost:8080/",
          "height": 33
        },
        "outputId": "da9c19ca-9eda-4767-da3c-9dfc6458ac6a"
      },
      "source": [
        "with tf.Session() as sess:                          \n",
        "    saver.restore(sess, \"./rnn_time_series_model\")   \n",
        "\n",
        "    X_new = np.sin(np.array(train_inst[:-1].reshape(-1, num_time_steps, num_inputs)))\n",
        "    y_pred = sess.run(outputs, feed_dict={X: X_new})"
      ],
      "execution_count": 25,
      "outputs": [
        {
          "output_type": "stream",
          "text": [
            "INFO:tensorflow:Restoring parameters from ./rnn_time_series_model\n"
          ],
          "name": "stdout"
        }
      ]
    },
    {
      "cell_type": "code",
      "metadata": {
        "scrolled": true,
        "id": "2z78fCHZDBsN",
        "colab_type": "code",
        "colab": {
          "base_uri": "https://localhost:8080/",
          "height": 297
        },
        "outputId": "ce91366a-8345-4301-b62a-6adb7cb485bf"
      },
      "source": [
        "plt.title(\"Testing Model\")\n",
        "\n",
        "# Training Instance\n",
        "plt.plot(train_inst[:-1], np.sin(train_inst[:-1]), \"bo\", markersize=15,alpha=0.5, label=\"Training Instance\")\n",
        "\n",
        "# Target to Predict\n",
        "plt.plot(train_inst[1:], np.sin(train_inst[1:]), \"ko\", markersize=10, label=\"target\")\n",
        "\n",
        "# Models Prediction\n",
        "plt.plot(train_inst[1:], y_pred[0,:,0], \"r.\", markersize=10, label=\"prediction\")\n",
        "\n",
        "plt.xlabel(\"Time\")\n",
        "plt.legend()\n",
        "plt.tight_layout()"
      ],
      "execution_count": 26,
      "outputs": [
        {
          "output_type": "display_data",
          "data": {
            "image/png": "[encoded data removed]",
            "text/plain": [
              "<Figure size 432x288 with 1 Axes>"
            ]
          },
          "metadata": {
            "tags": [],
            "needs_background": "light"
          }
        }
      ]
    },
    {
      "cell_type": "markdown",
      "metadata": {
        "id": "lceAPvfJDBsS",
        "colab_type": "text"
      },
      "source": [
        "# Generating New Sequences"
      ]
    },
    {
      "cell_type": "code",
      "metadata": {
        "id": "Lz0z5GLQDBsU",
        "colab_type": "code",
        "colab": {
          "base_uri": "https://localhost:8080/",
          "height": 33
        },
        "outputId": "9bfac513-946e-4f4d-c71b-a4a61c4a7a5f"
      },
      "source": [
        "with tf.Session() as sess:\n",
        "    saver.restore(sess, \"./rnn_time_series_model\")\n",
        "\n",
        "    # SEED WITH ZEROS\n",
        "    zero_seq_seed = [0. for i in range(num_time_steps)]\n",
        "    for iteration in range(len(ts_data.x_data) - num_time_steps):\n",
        "        X_batch = np.array(zero_seq_seed[-num_time_steps:]).reshape(1, num_time_steps, 1)\n",
        "        y_pred = sess.run(outputs, feed_dict={X: X_batch})\n",
        "        zero_seq_seed.append(y_pred[0, -1, 0])"
      ],
      "execution_count": 27,
      "outputs": [
        {
          "output_type": "stream",
          "text": [
            "INFO:tensorflow:Restoring parameters from ./rnn_time_series_model\n"
          ],
          "name": "stdout"
        }
      ]
    },
    {
      "cell_type": "code",
      "metadata": {
        "id": "lStFrR2WDBsa",
        "colab_type": "code",
        "colab": {
          "base_uri": "https://localhost:8080/",
          "height": 296
        },
        "outputId": "dbfb201d-9b37-4845-dd11-b0980335ac3b"
      },
      "source": [
        "plt.plot(ts_data.x_data, zero_seq_seed, \"b-\")\n",
        "plt.plot(ts_data.x_data[:num_time_steps], zero_seq_seed[:num_time_steps], \"r\", linewidth=3)\n",
        "plt.xlabel(\"Time\")\n",
        "plt.ylabel(\"Value\")"
      ],
      "execution_count": 28,
      "outputs": [
        {
          "output_type": "execute_result",
          "data": {
            "text/plain": [
              "Text(0, 0.5, 'Value')"
            ]
          },
          "metadata": {
            "tags": []
          },
          "execution_count": 28
        },
        {
          "output_type": "display_data",
          "data": {
            "image/png": "[encoded data removed]",
            "text/plain": [
              "<Figure size 432x288 with 1 Axes>"
            ]
          },
          "metadata": {
            "tags": [],
            "needs_background": "light"
          }
        }
      ]
    },
    {
      "cell_type": "code",
      "metadata": {
        "id": "6-0slwesDBsg",
        "colab_type": "code",
        "colab": {
          "base_uri": "https://localhost:8080/",
          "height": 33
        },
        "outputId": "2765a2c5-e4df-4fde-d595-f5d86d09f881"
      },
      "source": [
        "with tf.Session() as sess:\n",
        "    saver.restore(sess, \"./rnn_time_series_model\")\n",
        "\n",
        "    # SEED WITH Training Instance\n",
        "    training_instance = list(ts_data.y_true[:30])\n",
        "    for iteration in range(len(training_instance) -num_time_steps):\n",
        "        X_batch = np.array(training_instance[-num_time_steps:]).reshape(1, num_time_steps, 1)\n",
        "        y_pred = sess.run(outputs, feed_dict={X: X_batch})\n",
        "        training_instance.append(y_pred[0, -1, 0])"
      ],
      "execution_count": 29,
      "outputs": [
        {
          "output_type": "stream",
          "text": [
            "INFO:tensorflow:Restoring parameters from ./rnn_time_series_model\n"
          ],
          "name": "stdout"
        }
      ]
    },
    {
      "cell_type": "code",
      "metadata": {
        "id": "Rw2qin2SDBsn",
        "colab_type": "code",
        "colab": {
          "base_uri": "https://localhost:8080/",
          "height": 296
        },
        "outputId": "b32d2ec5-0cdc-4993-f116-6238a6febfe6"
      },
      "source": [
        "plt.plot(ts_data.x_data, ts_data.y_true, \"b-\")\n",
        "plt.plot(ts_data.x_data[:num_time_steps],training_instance[:num_time_steps], \"r-\", linewidth=3)\n",
        "plt.xlabel(\"Time\")"
      ],
      "execution_count": 30,
      "outputs": [
        {
          "output_type": "execute_result",
          "data": {
            "text/plain": [
              "Text(0.5, 0, 'Time')"
            ]
          },
          "metadata": {
            "tags": []
          },
          "execution_count": 30
        },
        {
          "output_type": "display_data",
          "data": {
            "image/png": "[encoded data removed]",
            "text/plain": [
              "<Figure size 432x288 with 1 Axes>"
            ]
          },
          "metadata": {
            "tags": [],
            "needs_background": "light"
          }
        }
      ]
    }
  ]
}