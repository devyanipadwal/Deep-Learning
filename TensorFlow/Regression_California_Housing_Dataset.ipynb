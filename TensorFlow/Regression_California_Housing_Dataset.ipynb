{
  "nbformat": 4,
  "nbformat_minor": 0,
  "metadata": {
    "kernelspec": {
      "display_name": "Python 3",
      "language": "python",
      "name": "python3"
    },
    "language_info": {
      "codemirror_mode": {
        "name": "ipython",
        "version": 3
      },
      "file_extension": ".py",
      "mimetype": "text/x-python",
      "name": "python",
      "nbconvert_exporter": "python",
      "pygments_lexer": "ipython3",
      "version": "3.7.1"
    },
    "colab": {
      "name": "Regression_California Housing Dataset.ipynb",
      "provenance": [],
      "collapsed_sections": [],
      "toc_visible": true
    },
    "accelerator": "GPU"
  },
  "cells": [
    {
      "cell_type": "markdown",
      "metadata": {
        "id": "YLLMRmY42X9k",
        "colab_type": "text"
      },
      "source": [
        "## Data"
      ]
    },
    {
      "cell_type": "code",
      "metadata": {
        "id": "j3JsxMRO2X9n",
        "colab_type": "code",
        "colab": {}
      },
      "source": [
        "import pandas as pd"
      ],
      "execution_count": 0,
      "outputs": []
    },
    {
      "cell_type": "code",
      "metadata": {
        "id": "JcDHbCNb2X9t",
        "colab_type": "code",
        "colab": {}
      },
      "source": [
        "housing = pd.read_csv('cal_housing_clean.csv')"
      ],
      "execution_count": 0,
      "outputs": []
    },
    {
      "cell_type": "code",
      "metadata": {
        "id": "PKiq3h9w2X9y",
        "colab_type": "code",
        "colab": {
          "base_uri": "https://localhost:8080/",
          "height": 196
        },
        "outputId": "ec20ed6b-5d50-4f55-902b-0e0eb034b0ba"
      },
      "source": [
        "housing.head()"
      ],
      "execution_count": 3,
      "outputs": [
        {
          "output_type": "execute_result",
          "data": {
            "text/html": [
              "<div>\n",
              "<style scoped>\n",
              "    .dataframe tbody tr th:only-of-type {\n",
              "        vertical-align: middle;\n",
              "    }\n",
              "\n",
              "    .dataframe tbody tr th {\n",
              "        vertical-align: top;\n",
              "    }\n",
              "\n",
              "    .dataframe thead th {\n",
              "        text-align: right;\n",
              "    }\n",
              "</style>\n",
              "<table border=\"1\" class=\"dataframe\">\n",
              "  <thead>\n",
              "    <tr style=\"text-align: right;\">\n",
              "      <th></th>\n",
              "      <th>housingMedianAge</th>\n",
              "      <th>totalRooms</th>\n",
              "      <th>totalBedrooms</th>\n",
              "      <th>population</th>\n",
              "      <th>households</th>\n",
              "      <th>medianIncome</th>\n",
              "      <th>medianHouseValue</th>\n",
              "    </tr>\n",
              "  </thead>\n",
              "  <tbody>\n",
              "    <tr>\n",
              "      <th>0</th>\n",
              "      <td>41.0</td>\n",
              "      <td>880.0</td>\n",
              "      <td>129.0</td>\n",
              "      <td>322.0</td>\n",
              "      <td>126.0</td>\n",
              "      <td>8.3252</td>\n",
              "      <td>452600.0</td>\n",
              "    </tr>\n",
              "    <tr>\n",
              "      <th>1</th>\n",
              "      <td>21.0</td>\n",
              "      <td>7099.0</td>\n",
              "      <td>1106.0</td>\n",
              "      <td>2401.0</td>\n",
              "      <td>1138.0</td>\n",
              "      <td>8.3014</td>\n",
              "      <td>358500.0</td>\n",
              "    </tr>\n",
              "    <tr>\n",
              "      <th>2</th>\n",
              "      <td>52.0</td>\n",
              "      <td>1467.0</td>\n",
              "      <td>190.0</td>\n",
              "      <td>496.0</td>\n",
              "      <td>177.0</td>\n",
              "      <td>7.2574</td>\n",
              "      <td>352100.0</td>\n",
              "    </tr>\n",
              "    <tr>\n",
              "      <th>3</th>\n",
              "      <td>52.0</td>\n",
              "      <td>1274.0</td>\n",
              "      <td>235.0</td>\n",
              "      <td>558.0</td>\n",
              "      <td>219.0</td>\n",
              "      <td>5.6431</td>\n",
              "      <td>341300.0</td>\n",
              "    </tr>\n",
              "    <tr>\n",
              "      <th>4</th>\n",
              "      <td>52.0</td>\n",
              "      <td>1627.0</td>\n",
              "      <td>280.0</td>\n",
              "      <td>565.0</td>\n",
              "      <td>259.0</td>\n",
              "      <td>3.8462</td>\n",
              "      <td>342200.0</td>\n",
              "    </tr>\n",
              "  </tbody>\n",
              "</table>\n",
              "</div>"
            ],
            "text/plain": [
              "   housingMedianAge  totalRooms  ...  medianIncome  medianHouseValue\n",
              "0              41.0       880.0  ...        8.3252          452600.0\n",
              "1              21.0      7099.0  ...        8.3014          358500.0\n",
              "2              52.0      1467.0  ...        7.2574          352100.0\n",
              "3              52.0      1274.0  ...        5.6431          341300.0\n",
              "4              52.0      1627.0  ...        3.8462          342200.0\n",
              "\n",
              "[5 rows x 7 columns]"
            ]
          },
          "metadata": {
            "tags": []
          },
          "execution_count": 3
        }
      ]
    },
    {
      "cell_type": "code",
      "metadata": {
        "id": "biTeCZiE2X-B",
        "colab_type": "code",
        "colab": {
          "base_uri": "https://localhost:8080/",
          "height": 256
        },
        "outputId": "008b9f6a-1a8d-47dc-95b8-e522a1746f87"
      },
      "source": [
        "housing.describe().transpose()"
      ],
      "execution_count": 4,
      "outputs": [
        {
          "output_type": "execute_result",
          "data": {
            "text/html": [
              "<div>\n",
              "<style scoped>\n",
              "    .dataframe tbody tr th:only-of-type {\n",
              "        vertical-align: middle;\n",
              "    }\n",
              "\n",
              "    .dataframe tbody tr th {\n",
              "        vertical-align: top;\n",
              "    }\n",
              "\n",
              "    .dataframe thead th {\n",
              "        text-align: right;\n",
              "    }\n",
              "</style>\n",
              "<table border=\"1\" class=\"dataframe\">\n",
              "  <thead>\n",
              "    <tr style=\"text-align: right;\">\n",
              "      <th></th>\n",
              "      <th>count</th>\n",
              "      <th>mean</th>\n",
              "      <th>std</th>\n",
              "      <th>min</th>\n",
              "      <th>25%</th>\n",
              "      <th>50%</th>\n",
              "      <th>75%</th>\n",
              "      <th>max</th>\n",
              "    </tr>\n",
              "  </thead>\n",
              "  <tbody>\n",
              "    <tr>\n",
              "      <th>housingMedianAge</th>\n",
              "      <td>20640.0</td>\n",
              "      <td>28.639486</td>\n",
              "      <td>12.585558</td>\n",
              "      <td>1.0000</td>\n",
              "      <td>18.0000</td>\n",
              "      <td>29.0000</td>\n",
              "      <td>37.00000</td>\n",
              "      <td>52.0000</td>\n",
              "    </tr>\n",
              "    <tr>\n",
              "      <th>totalRooms</th>\n",
              "      <td>20640.0</td>\n",
              "      <td>2635.763081</td>\n",
              "      <td>2181.615252</td>\n",
              "      <td>2.0000</td>\n",
              "      <td>1447.7500</td>\n",
              "      <td>2127.0000</td>\n",
              "      <td>3148.00000</td>\n",
              "      <td>39320.0000</td>\n",
              "    </tr>\n",
              "    <tr>\n",
              "      <th>totalBedrooms</th>\n",
              "      <td>20640.0</td>\n",
              "      <td>537.898014</td>\n",
              "      <td>421.247906</td>\n",
              "      <td>1.0000</td>\n",
              "      <td>295.0000</td>\n",
              "      <td>435.0000</td>\n",
              "      <td>647.00000</td>\n",
              "      <td>6445.0000</td>\n",
              "    </tr>\n",
              "    <tr>\n",
              "      <th>population</th>\n",
              "      <td>20640.0</td>\n",
              "      <td>1425.476744</td>\n",
              "      <td>1132.462122</td>\n",
              "      <td>3.0000</td>\n",
              "      <td>787.0000</td>\n",
              "      <td>1166.0000</td>\n",
              "      <td>1725.00000</td>\n",
              "      <td>35682.0000</td>\n",
              "    </tr>\n",
              "    <tr>\n",
              "      <th>households</th>\n",
              "      <td>20640.0</td>\n",
              "      <td>499.539680</td>\n",
              "      <td>382.329753</td>\n",
              "      <td>1.0000</td>\n",
              "      <td>280.0000</td>\n",
              "      <td>409.0000</td>\n",
              "      <td>605.00000</td>\n",
              "      <td>6082.0000</td>\n",
              "    </tr>\n",
              "    <tr>\n",
              "      <th>medianIncome</th>\n",
              "      <td>20640.0</td>\n",
              "      <td>3.870671</td>\n",
              "      <td>1.899822</td>\n",
              "      <td>0.4999</td>\n",
              "      <td>2.5634</td>\n",
              "      <td>3.5348</td>\n",
              "      <td>4.74325</td>\n",
              "      <td>15.0001</td>\n",
              "    </tr>\n",
              "    <tr>\n",
              "      <th>medianHouseValue</th>\n",
              "      <td>20640.0</td>\n",
              "      <td>206855.816909</td>\n",
              "      <td>115395.615874</td>\n",
              "      <td>14999.0000</td>\n",
              "      <td>119600.0000</td>\n",
              "      <td>179700.0000</td>\n",
              "      <td>264725.00000</td>\n",
              "      <td>500001.0000</td>\n",
              "    </tr>\n",
              "  </tbody>\n",
              "</table>\n",
              "</div>"
            ],
            "text/plain": [
              "                    count           mean  ...           75%          max\n",
              "housingMedianAge  20640.0      28.639486  ...      37.00000      52.0000\n",
              "totalRooms        20640.0    2635.763081  ...    3148.00000   39320.0000\n",
              "totalBedrooms     20640.0     537.898014  ...     647.00000    6445.0000\n",
              "population        20640.0    1425.476744  ...    1725.00000   35682.0000\n",
              "households        20640.0     499.539680  ...     605.00000    6082.0000\n",
              "medianIncome      20640.0       3.870671  ...       4.74325      15.0001\n",
              "medianHouseValue  20640.0  206855.816909  ...  264725.00000  500001.0000\n",
              "\n",
              "[7 rows x 8 columns]"
            ]
          },
          "metadata": {
            "tags": []
          },
          "execution_count": 4
        }
      ]
    },
    {
      "cell_type": "code",
      "metadata": {
        "scrolled": true,
        "id": "rUwdJG5B2X-G",
        "colab_type": "code",
        "colab": {}
      },
      "source": [
        "x_data = housing.drop(['medianHouseValue'],axis=1)"
      ],
      "execution_count": 0,
      "outputs": []
    },
    {
      "cell_type": "code",
      "metadata": {
        "id": "GYHaTbe72X-L",
        "colab_type": "code",
        "colab": {}
      },
      "source": [
        "y_val = housing['medianHouseValue']"
      ],
      "execution_count": 0,
      "outputs": []
    },
    {
      "cell_type": "code",
      "metadata": {
        "id": "SE1nj7772X-Q",
        "colab_type": "code",
        "colab": {}
      },
      "source": [
        "from sklearn.model_selection import train_test_split"
      ],
      "execution_count": 0,
      "outputs": []
    },
    {
      "cell_type": "code",
      "metadata": {
        "id": "sBXWTXJ62X-a",
        "colab_type": "code",
        "colab": {}
      },
      "source": [
        "X_train, X_test, y_train, y_test = train_test_split(x_data,y_val,test_size=0.3,random_state=101)"
      ],
      "execution_count": 0,
      "outputs": []
    },
    {
      "cell_type": "markdown",
      "metadata": {
        "id": "8LRP02q42X-d",
        "colab_type": "text"
      },
      "source": [
        "### Scale the Feature Data"
      ]
    },
    {
      "cell_type": "code",
      "metadata": {
        "id": "JbSdob_22X-e",
        "colab_type": "code",
        "colab": {}
      },
      "source": [
        "from sklearn.preprocessing import MinMaxScaler"
      ],
      "execution_count": 0,
      "outputs": []
    },
    {
      "cell_type": "code",
      "metadata": {
        "id": "Byf52N7s2X-i",
        "colab_type": "code",
        "colab": {}
      },
      "source": [
        "scaler = MinMaxScaler()"
      ],
      "execution_count": 0,
      "outputs": []
    },
    {
      "cell_type": "code",
      "metadata": {
        "id": "MPUPOcvf2X-n",
        "colab_type": "code",
        "colab": {
          "base_uri": "https://localhost:8080/",
          "height": 33
        },
        "outputId": "5e7cf9a7-7d3a-4100-8a7b-1f76a680536a"
      },
      "source": [
        "scaler.fit(X_train)"
      ],
      "execution_count": 11,
      "outputs": [
        {
          "output_type": "execute_result",
          "data": {
            "text/plain": [
              "MinMaxScaler(copy=True, feature_range=(0, 1))"
            ]
          },
          "metadata": {
            "tags": []
          },
          "execution_count": 11
        }
      ]
    },
    {
      "cell_type": "code",
      "metadata": {
        "id": "wnIzl4Uk2X-4",
        "colab_type": "code",
        "colab": {}
      },
      "source": [
        "X_train = pd.DataFrame(data=scaler.transform(X_train),columns = X_train.columns,index=X_train.index)"
      ],
      "execution_count": 0,
      "outputs": []
    },
    {
      "cell_type": "code",
      "metadata": {
        "id": "l6WX4qEx2X-9",
        "colab_type": "code",
        "colab": {}
      },
      "source": [
        "X_test = pd.DataFrame(data=scaler.transform(X_test),columns = X_test.columns,index=X_test.index)"
      ],
      "execution_count": 0,
      "outputs": []
    },
    {
      "cell_type": "markdown",
      "metadata": {
        "id": "XOES7Dcp2X_B",
        "colab_type": "text"
      },
      "source": [
        "### Create Feature Columns"
      ]
    },
    {
      "cell_type": "code",
      "metadata": {
        "id": "eMcfw7cc2X_B",
        "colab_type": "code",
        "colab": {
          "base_uri": "https://localhost:8080/",
          "height": 67
        },
        "outputId": "0c490482-8227-4d0f-9428-df480b340965"
      },
      "source": [
        "housing.columns"
      ],
      "execution_count": 14,
      "outputs": [
        {
          "output_type": "execute_result",
          "data": {
            "text/plain": [
              "Index(['housingMedianAge', 'totalRooms', 'totalBedrooms', 'population',\n",
              "       'households', 'medianIncome', 'medianHouseValue'],\n",
              "      dtype='object')"
            ]
          },
          "metadata": {
            "tags": []
          },
          "execution_count": 14
        }
      ]
    },
    {
      "cell_type": "code",
      "metadata": {
        "id": "APeGNMuL2X_F",
        "colab_type": "code",
        "colab": {}
      },
      "source": [
        "import tensorflow as tf"
      ],
      "execution_count": 0,
      "outputs": []
    },
    {
      "cell_type": "code",
      "metadata": {
        "id": "aK-1CXYl2X_J",
        "colab_type": "code",
        "colab": {}
      },
      "source": [
        "age = tf.feature_column.numeric_column('housingMedianAge')\n",
        "rooms = tf.feature_column.numeric_column('totalRooms')\n",
        "bedrooms = tf.feature_column.numeric_column('totalBedrooms')\n",
        "pop = tf.feature_column.numeric_column('population')\n",
        "households = tf.feature_column.numeric_column('households')\n",
        "income = tf.feature_column.numeric_column('medianIncome')"
      ],
      "execution_count": 0,
      "outputs": []
    },
    {
      "cell_type": "code",
      "metadata": {
        "id": "IIRZe5Bc2X_P",
        "colab_type": "code",
        "colab": {}
      },
      "source": [
        "feat_cols = [ age,rooms,bedrooms,pop,households,income]"
      ],
      "execution_count": 0,
      "outputs": []
    },
    {
      "cell_type": "code",
      "metadata": {
        "id": "0rsNWBxb2X_U",
        "colab_type": "code",
        "colab": {}
      },
      "source": [
        "input_func = tf.estimator.inputs.pandas_input_fn(x=X_train,y=y_train ,batch_size=10,num_epochs=1000,\n",
        "                                            shuffle=True)"
      ],
      "execution_count": 0,
      "outputs": []
    },
    {
      "cell_type": "code",
      "metadata": {
        "id": "26SKZKNz2X_Y",
        "colab_type": "code",
        "colab": {
          "base_uri": "https://localhost:8080/",
          "height": 187
        },
        "outputId": "b08cb438-f4f5-478f-9530-6fb22ee1bfd0"
      },
      "source": [
        "model = tf.estimator.DNNRegressor(hidden_units=[6,6,6],feature_columns=feat_cols)"
      ],
      "execution_count": 19,
      "outputs": [
        {
          "output_type": "stream",
          "text": [
            "INFO:tensorflow:Using default config.\n",
            "WARNING:tensorflow:Using temporary folder as model directory: /tmp/tmpwutvghk5\n",
            "INFO:tensorflow:Using config: {'_model_dir': '/tmp/tmpwutvghk5', '_tf_random_seed': None, '_save_summary_steps': 100, '_save_checkpoints_steps': None, '_save_checkpoints_secs': 600, '_session_config': allow_soft_placement: true\n",
            "graph_options {\n",
            "  rewrite_options {\n",
            "    meta_optimizer_iterations: ONE\n",
            "  }\n",
            "}\n",
            ", '_keep_checkpoint_max': 5, '_keep_checkpoint_every_n_hours': 10000, '_log_step_count_steps': 100, '_train_distribute': None, '_device_fn': None, '_protocol': None, '_eval_distribute': None, '_experimental_distribute': None, '_experimental_max_worker_delay_secs': None, '_session_creation_timeout_secs': 7200, '_service': None, '_cluster_spec': <tensorflow.python.training.server_lib.ClusterSpec object at 0x7f82a6813240>, '_task_type': 'worker', '_task_id': 0, '_global_id_in_cluster': 0, '_master': '', '_evaluation_master': '', '_is_chief': True, '_num_ps_replicas': 0, '_num_worker_replicas': 1}\n"
          ],
          "name": "stdout"
        }
      ]
    },
    {
      "cell_type": "code",
      "metadata": {
        "id": "Xl0iV6fE2X_d",
        "colab_type": "code",
        "colab": {
          "base_uri": "https://localhost:8080/",
          "height": 1000
        },
        "outputId": "57473111-c58c-4b41-8a6f-10f44c6c1d5b"
      },
      "source": [
        "model.train(input_fn=input_func,steps=25000)"
      ],
      "execution_count": 20,
      "outputs": [
        {
          "output_type": "stream",
          "text": [
            "WARNING:tensorflow:From /usr/local/lib/python3.6/dist-packages/tensorflow_core/python/training/training_util.py:236: Variable.initialized_value (from tensorflow.python.ops.variables) is deprecated and will be removed in a future version.\n",
            "Instructions for updating:\n",
            "Use Variable.read_value. Variables in 2.X are initialized automatically both in eager and graph (inside tf.defun) contexts.\n",
            "WARNING:tensorflow:From /usr/local/lib/python3.6/dist-packages/tensorflow_estimator/python/estimator/inputs/queues/feeding_queue_runner.py:62: QueueRunner.__init__ (from tensorflow.python.training.queue_runner_impl) is deprecated and will be removed in a future version.\n",
            "Instructions for updating:\n",
            "To construct input pipelines, use the `tf.data` module.\n",
            "WARNING:tensorflow:From /usr/local/lib/python3.6/dist-packages/tensorflow_estimator/python/estimator/inputs/queues/feeding_functions.py:500: add_queue_runner (from tensorflow.python.training.queue_runner_impl) is deprecated and will be removed in a future version.\n",
            "Instructions for updating:\n",
            "To construct input pipelines, use the `tf.data` module.\n",
            "INFO:tensorflow:Calling model_fn.\n",
            "WARNING:tensorflow:From /usr/local/lib/python3.6/dist-packages/tensorflow_core/python/ops/resource_variable_ops.py:1630: calling BaseResourceVariable.__init__ (from tensorflow.python.ops.resource_variable_ops) with constraint is deprecated and will be removed in a future version.\n",
            "Instructions for updating:\n",
            "If using Keras pass *_constraint arguments to layers.\n",
            "WARNING:tensorflow:From /usr/local/lib/python3.6/dist-packages/tensorflow_estimator/python/estimator/canned/head.py:437: to_float (from tensorflow.python.ops.math_ops) is deprecated and will be removed in a future version.\n",
            "Instructions for updating:\n",
            "Use `tf.cast` instead.\n",
            "WARNING:tensorflow:From /usr/local/lib/python3.6/dist-packages/tensorflow_core/python/training/adagrad.py:76: calling Constant.__init__ (from tensorflow.python.ops.init_ops) with dtype is deprecated and will be removed in a future version.\n",
            "Instructions for updating:\n",
            "Call initializer instance with the dtype argument instead of passing it to the constructor\n",
            "INFO:tensorflow:Done calling model_fn.\n",
            "INFO:tensorflow:Create CheckpointSaverHook.\n",
            "WARNING:tensorflow:From /usr/local/lib/python3.6/dist-packages/tensorflow_core/python/ops/array_ops.py:1475: where (from tensorflow.python.ops.array_ops) is deprecated and will be removed in a future version.\n",
            "Instructions for updating:\n",
            "Use tf.where in 2.0, which has the same broadcast rule as np.where\n",
            "INFO:tensorflow:Graph was finalized.\n",
            "INFO:tensorflow:Running local_init_op.\n",
            "INFO:tensorflow:Done running local_init_op.\n",
            "WARNING:tensorflow:From /usr/local/lib/python3.6/dist-packages/tensorflow_core/python/training/monitored_session.py:882: start_queue_runners (from tensorflow.python.training.queue_runner_impl) is deprecated and will be removed in a future version.\n",
            "Instructions for updating:\n",
            "To construct input pipelines, use the `tf.data` module.\n",
            "INFO:tensorflow:Saving checkpoints for 0 into /tmp/tmpwutvghk5/model.ckpt.\n",
            "INFO:tensorflow:loss = 227019570000.0, step = 0\n",
            "INFO:tensorflow:global_step/sec: 194.561\n",
            "INFO:tensorflow:loss = 475500200000.0, step = 100 (0.518 sec)\n",
            "INFO:tensorflow:global_step/sec: 214.57\n",
            "INFO:tensorflow:loss = 445911600000.0, step = 200 (0.467 sec)\n",
            "INFO:tensorflow:global_step/sec: 227.49\n",
            "INFO:tensorflow:loss = 805084700000.0, step = 300 (0.439 sec)\n",
            "INFO:tensorflow:global_step/sec: 214.782\n",
            "INFO:tensorflow:loss = 456684180000.0, step = 400 (0.465 sec)\n",
            "INFO:tensorflow:global_step/sec: 217.259\n",
            "INFO:tensorflow:loss = 398724300000.0, step = 500 (0.462 sec)\n",
            "INFO:tensorflow:global_step/sec: 213.307\n",
            "INFO:tensorflow:loss = 343885840000.0, step = 600 (0.471 sec)\n",
            "INFO:tensorflow:global_step/sec: 220.79\n",
            "INFO:tensorflow:loss = 273584030000.0, step = 700 (0.450 sec)\n",
            "INFO:tensorflow:global_step/sec: 208.591\n",
            "INFO:tensorflow:loss = 170311220000.0, step = 800 (0.480 sec)\n",
            "INFO:tensorflow:global_step/sec: 211.189\n",
            "INFO:tensorflow:loss = 149935770000.0, step = 900 (0.473 sec)\n",
            "INFO:tensorflow:global_step/sec: 217.023\n",
            "INFO:tensorflow:loss = 244142080000.0, step = 1000 (0.461 sec)\n",
            "INFO:tensorflow:global_step/sec: 212.688\n",
            "INFO:tensorflow:loss = 334015070000.0, step = 1100 (0.472 sec)\n",
            "INFO:tensorflow:global_step/sec: 215.162\n",
            "INFO:tensorflow:loss = 76679815000.0, step = 1200 (0.464 sec)\n",
            "INFO:tensorflow:global_step/sec: 212.56\n",
            "INFO:tensorflow:loss = 258041150000.0, step = 1300 (0.471 sec)\n",
            "INFO:tensorflow:global_step/sec: 221.293\n",
            "INFO:tensorflow:loss = 195157770000.0, step = 1400 (0.449 sec)\n",
            "INFO:tensorflow:global_step/sec: 211.466\n",
            "INFO:tensorflow:loss = 99586850000.0, step = 1500 (0.471 sec)\n",
            "INFO:tensorflow:global_step/sec: 213.836\n",
            "INFO:tensorflow:loss = 146656870000.0, step = 1600 (0.471 sec)\n",
            "INFO:tensorflow:global_step/sec: 211.741\n",
            "INFO:tensorflow:loss = 79712530000.0, step = 1700 (0.469 sec)\n",
            "INFO:tensorflow:global_step/sec: 219.451\n",
            "INFO:tensorflow:loss = 81325820000.0, step = 1800 (0.459 sec)\n",
            "INFO:tensorflow:global_step/sec: 215.667\n",
            "INFO:tensorflow:loss = 105229660000.0, step = 1900 (0.464 sec)\n",
            "INFO:tensorflow:global_step/sec: 196.195\n",
            "INFO:tensorflow:loss = 68088054000.0, step = 2000 (0.510 sec)\n",
            "INFO:tensorflow:global_step/sec: 217.983\n",
            "INFO:tensorflow:loss = 71537070000.0, step = 2100 (0.455 sec)\n",
            "INFO:tensorflow:global_step/sec: 212.855\n",
            "INFO:tensorflow:loss = 79137186000.0, step = 2200 (0.470 sec)\n",
            "INFO:tensorflow:global_step/sec: 224.841\n",
            "INFO:tensorflow:loss = 52865126000.0, step = 2300 (0.444 sec)\n",
            "WARNING:tensorflow:It seems that global step (tf.train.get_global_step) has not been increased. Current value (could be stable): 2332 vs previous value: 2332. You could increase the global step by passing tf.train.get_global_step() to Optimizer.apply_gradients or Optimizer.minimize.\n",
            "INFO:tensorflow:global_step/sec: 208.555\n",
            "INFO:tensorflow:loss = 75350740000.0, step = 2400 (0.482 sec)\n",
            "INFO:tensorflow:global_step/sec: 216.061\n",
            "INFO:tensorflow:loss = 136528230000.0, step = 2500 (0.460 sec)\n",
            "INFO:tensorflow:global_step/sec: 219.23\n",
            "INFO:tensorflow:loss = 141346320000.0, step = 2600 (0.460 sec)\n",
            "INFO:tensorflow:global_step/sec: 211.853\n",
            "INFO:tensorflow:loss = 86391920000.0, step = 2700 (0.469 sec)\n",
            "INFO:tensorflow:global_step/sec: 209.572\n",
            "INFO:tensorflow:loss = 160327580000.0, step = 2800 (0.480 sec)\n",
            "INFO:tensorflow:global_step/sec: 217.752\n",
            "INFO:tensorflow:loss = 97263580000.0, step = 2900 (0.460 sec)\n",
            "INFO:tensorflow:global_step/sec: 216.709\n",
            "INFO:tensorflow:loss = 115225936000.0, step = 3000 (0.459 sec)\n",
            "INFO:tensorflow:global_step/sec: 225.949\n",
            "INFO:tensorflow:loss = 61220418000.0, step = 3100 (0.443 sec)\n",
            "INFO:tensorflow:global_step/sec: 203.318\n",
            "INFO:tensorflow:loss = 57839505000.0, step = 3200 (0.489 sec)\n",
            "INFO:tensorflow:global_step/sec: 223.19\n",
            "INFO:tensorflow:loss = 37907067000.0, step = 3300 (0.449 sec)\n",
            "WARNING:tensorflow:It seems that global step (tf.train.get_global_step) has not been increased. Current value (could be stable): 3334 vs previous value: 3334. You could increase the global step by passing tf.train.get_global_step() to Optimizer.apply_gradients or Optimizer.minimize.\n",
            "INFO:tensorflow:global_step/sec: 215.285\n",
            "INFO:tensorflow:loss = 264115220000.0, step = 3400 (0.463 sec)\n",
            "INFO:tensorflow:global_step/sec: 212.258\n",
            "INFO:tensorflow:loss = 63449520000.0, step = 3500 (0.474 sec)\n",
            "INFO:tensorflow:global_step/sec: 212.85\n",
            "INFO:tensorflow:loss = 41069710000.0, step = 3600 (0.470 sec)\n",
            "INFO:tensorflow:global_step/sec: 210.25\n",
            "INFO:tensorflow:loss = 208830220000.0, step = 3700 (0.475 sec)\n",
            "INFO:tensorflow:global_step/sec: 217.632\n",
            "INFO:tensorflow:loss = 210560610000.0, step = 3800 (0.460 sec)\n",
            "INFO:tensorflow:global_step/sec: 215.468\n",
            "INFO:tensorflow:loss = 213338300000.0, step = 3900 (0.464 sec)\n",
            "INFO:tensorflow:global_step/sec: 218.211\n",
            "INFO:tensorflow:loss = 76803440000.0, step = 4000 (0.458 sec)\n",
            "INFO:tensorflow:global_step/sec: 217.661\n",
            "INFO:tensorflow:loss = 125781950000.0, step = 4100 (0.456 sec)\n",
            "WARNING:tensorflow:It seems that global step (tf.train.get_global_step) has not been increased. Current value (could be stable): 4125 vs previous value: 4125. You could increase the global step by passing tf.train.get_global_step() to Optimizer.apply_gradients or Optimizer.minimize.\n",
            "INFO:tensorflow:global_step/sec: 202.549\n",
            "INFO:tensorflow:loss = 126643510000.0, step = 4200 (0.495 sec)\n",
            "INFO:tensorflow:global_step/sec: 205.218\n",
            "INFO:tensorflow:loss = 117356410000.0, step = 4300 (0.486 sec)\n",
            "INFO:tensorflow:global_step/sec: 205.825\n",
            "INFO:tensorflow:loss = 73939420000.0, step = 4400 (0.487 sec)\n",
            "INFO:tensorflow:global_step/sec: 209.303\n",
            "INFO:tensorflow:loss = 67183706000.0, step = 4500 (0.476 sec)\n",
            "INFO:tensorflow:global_step/sec: 213.379\n",
            "INFO:tensorflow:loss = 69469010000.0, step = 4600 (0.472 sec)\n",
            "INFO:tensorflow:global_step/sec: 217.842\n",
            "INFO:tensorflow:loss = 62057038000.0, step = 4700 (0.459 sec)\n",
            "INFO:tensorflow:global_step/sec: 210.373\n",
            "INFO:tensorflow:loss = 112485930000.0, step = 4800 (0.476 sec)\n",
            "INFO:tensorflow:global_step/sec: 223.923\n",
            "INFO:tensorflow:loss = 35124450000.0, step = 4900 (0.446 sec)\n",
            "INFO:tensorflow:global_step/sec: 212.339\n",
            "INFO:tensorflow:loss = 99302880000.0, step = 5000 (0.468 sec)\n",
            "INFO:tensorflow:global_step/sec: 225.333\n",
            "INFO:tensorflow:loss = 174390310000.0, step = 5100 (0.444 sec)\n",
            "INFO:tensorflow:global_step/sec: 214.22\n",
            "INFO:tensorflow:loss = 81437920000.0, step = 5200 (0.467 sec)\n",
            "INFO:tensorflow:global_step/sec: 212.421\n",
            "INFO:tensorflow:loss = 18448330000.0, step = 5300 (0.475 sec)\n",
            "INFO:tensorflow:global_step/sec: 189.247\n",
            "INFO:tensorflow:loss = 81348260000.0, step = 5400 (0.527 sec)\n",
            "INFO:tensorflow:global_step/sec: 194.956\n",
            "INFO:tensorflow:loss = 39027840000.0, step = 5500 (0.514 sec)\n",
            "INFO:tensorflow:global_step/sec: 217.097\n",
            "INFO:tensorflow:loss = 87888530000.0, step = 5600 (0.459 sec)\n",
            "INFO:tensorflow:global_step/sec: 208.624\n",
            "INFO:tensorflow:loss = 157313530000.0, step = 5700 (0.480 sec)\n",
            "WARNING:tensorflow:It seems that global step (tf.train.get_global_step) has not been increased. Current value (could be stable): 5757 vs previous value: 5757. You could increase the global step by passing tf.train.get_global_step() to Optimizer.apply_gradients or Optimizer.minimize.\n",
            "INFO:tensorflow:global_step/sec: 202.183\n",
            "INFO:tensorflow:loss = 59956474000.0, step = 5800 (0.494 sec)\n",
            "INFO:tensorflow:global_step/sec: 217.773\n",
            "INFO:tensorflow:loss = 37761740000.0, step = 5900 (0.460 sec)\n",
            "INFO:tensorflow:global_step/sec: 214.051\n",
            "INFO:tensorflow:loss = 52132230000.0, step = 6000 (0.466 sec)\n",
            "INFO:tensorflow:global_step/sec: 219.23\n",
            "INFO:tensorflow:loss = 97349340000.0, step = 6100 (0.456 sec)\n",
            "INFO:tensorflow:global_step/sec: 217.624\n",
            "INFO:tensorflow:loss = 95025870000.0, step = 6200 (0.460 sec)\n",
            "INFO:tensorflow:global_step/sec: 213.79\n",
            "INFO:tensorflow:loss = 123606480000.0, step = 6300 (0.466 sec)\n",
            "INFO:tensorflow:global_step/sec: 226.261\n",
            "INFO:tensorflow:loss = 110082150000.0, step = 6400 (0.444 sec)\n",
            "INFO:tensorflow:global_step/sec: 213.676\n",
            "INFO:tensorflow:loss = 74523010000.0, step = 6500 (0.468 sec)\n",
            "INFO:tensorflow:global_step/sec: 204.132\n",
            "INFO:tensorflow:loss = 47457927000.0, step = 6600 (0.490 sec)\n",
            "INFO:tensorflow:global_step/sec: 219.712\n",
            "INFO:tensorflow:loss = 68759830000.0, step = 6700 (0.453 sec)\n",
            "INFO:tensorflow:global_step/sec: 216.303\n",
            "INFO:tensorflow:loss = 81683180000.0, step = 6800 (0.465 sec)\n",
            "INFO:tensorflow:global_step/sec: 207.214\n",
            "INFO:tensorflow:loss = 55782330000.0, step = 6900 (0.482 sec)\n",
            "INFO:tensorflow:global_step/sec: 211.532\n",
            "INFO:tensorflow:loss = 119515530000.0, step = 7000 (0.472 sec)\n",
            "INFO:tensorflow:global_step/sec: 205.617\n",
            "INFO:tensorflow:loss = 125156340000.0, step = 7100 (0.487 sec)\n",
            "INFO:tensorflow:global_step/sec: 223.383\n",
            "INFO:tensorflow:loss = 125619585000.0, step = 7200 (0.447 sec)\n",
            "INFO:tensorflow:global_step/sec: 220.654\n",
            "INFO:tensorflow:loss = 180614370000.0, step = 7300 (0.452 sec)\n",
            "INFO:tensorflow:global_step/sec: 211.737\n",
            "INFO:tensorflow:loss = 89502110000.0, step = 7400 (0.472 sec)\n",
            "INFO:tensorflow:global_step/sec: 227.268\n",
            "INFO:tensorflow:loss = 36352740000.0, step = 7500 (0.442 sec)\n",
            "INFO:tensorflow:global_step/sec: 217.547\n",
            "INFO:tensorflow:loss = 98056045000.0, step = 7600 (0.459 sec)\n",
            "INFO:tensorflow:global_step/sec: 227.871\n",
            "INFO:tensorflow:loss = 95677220000.0, step = 7700 (0.442 sec)\n",
            "INFO:tensorflow:global_step/sec: 214.908\n",
            "INFO:tensorflow:loss = 188701840000.0, step = 7800 (0.463 sec)\n",
            "INFO:tensorflow:global_step/sec: 215.288\n",
            "INFO:tensorflow:loss = 104145400000.0, step = 7900 (0.464 sec)\n",
            "INFO:tensorflow:global_step/sec: 218.093\n",
            "INFO:tensorflow:loss = 91839960000.0, step = 8000 (0.457 sec)\n",
            "INFO:tensorflow:global_step/sec: 203.232\n",
            "INFO:tensorflow:loss = 44442880000.0, step = 8100 (0.495 sec)\n",
            "INFO:tensorflow:global_step/sec: 215.936\n",
            "INFO:tensorflow:loss = 160480700000.0, step = 8200 (0.463 sec)\n",
            "INFO:tensorflow:global_step/sec: 224.981\n",
            "INFO:tensorflow:loss = 80783920000.0, step = 8300 (0.445 sec)\n",
            "INFO:tensorflow:global_step/sec: 230.758\n",
            "INFO:tensorflow:loss = 83486170000.0, step = 8400 (0.430 sec)\n",
            "INFO:tensorflow:global_step/sec: 212.022\n",
            "INFO:tensorflow:loss = 51275194000.0, step = 8500 (0.474 sec)\n",
            "INFO:tensorflow:global_step/sec: 217.588\n",
            "INFO:tensorflow:loss = 70222510000.0, step = 8600 (0.460 sec)\n",
            "INFO:tensorflow:global_step/sec: 221.043\n",
            "INFO:tensorflow:loss = 163621030000.0, step = 8700 (0.452 sec)\n",
            "WARNING:tensorflow:It seems that global step (tf.train.get_global_step) has not been increased. Current value (could be stable): 8764 vs previous value: 8764. You could increase the global step by passing tf.train.get_global_step() to Optimizer.apply_gradients or Optimizer.minimize.\n",
            "INFO:tensorflow:global_step/sec: 210.552\n",
            "INFO:tensorflow:loss = 94308220000.0, step = 8800 (0.472 sec)\n",
            "INFO:tensorflow:global_step/sec: 208.927\n",
            "INFO:tensorflow:loss = 69554730000.0, step = 8900 (0.483 sec)\n",
            "INFO:tensorflow:global_step/sec: 215.225\n",
            "INFO:tensorflow:loss = 178907740000.0, step = 9000 (0.464 sec)\n",
            "INFO:tensorflow:global_step/sec: 212.475\n",
            "INFO:tensorflow:loss = 155876880000.0, step = 9100 (0.470 sec)\n",
            "INFO:tensorflow:global_step/sec: 219.894\n",
            "INFO:tensorflow:loss = 131035290000.0, step = 9200 (0.456 sec)\n",
            "INFO:tensorflow:global_step/sec: 206.174\n",
            "INFO:tensorflow:loss = 116356680000.0, step = 9300 (0.482 sec)\n",
            "INFO:tensorflow:global_step/sec: 221.763\n",
            "INFO:tensorflow:loss = 166037370000.0, step = 9400 (0.453 sec)\n",
            "INFO:tensorflow:global_step/sec: 226.832\n",
            "INFO:tensorflow:loss = 89048830000.0, step = 9500 (0.441 sec)\n",
            "INFO:tensorflow:global_step/sec: 212.317\n",
            "INFO:tensorflow:loss = 119364320000.0, step = 9600 (0.471 sec)\n",
            "INFO:tensorflow:global_step/sec: 213.472\n",
            "INFO:tensorflow:loss = 21556347000.0, step = 9700 (0.468 sec)\n",
            "INFO:tensorflow:global_step/sec: 212.01\n",
            "INFO:tensorflow:loss = 96049260000.0, step = 9800 (0.470 sec)\n",
            "INFO:tensorflow:global_step/sec: 223.462\n",
            "INFO:tensorflow:loss = 154963230000.0, step = 9900 (0.449 sec)\n",
            "INFO:tensorflow:global_step/sec: 219.227\n",
            "INFO:tensorflow:loss = 78269120000.0, step = 10000 (0.456 sec)\n",
            "INFO:tensorflow:global_step/sec: 215.435\n",
            "INFO:tensorflow:loss = 146772660000.0, step = 10100 (0.464 sec)\n",
            "INFO:tensorflow:global_step/sec: 213.548\n",
            "INFO:tensorflow:loss = 73294830000.0, step = 10200 (0.466 sec)\n",
            "INFO:tensorflow:global_step/sec: 214.614\n",
            "INFO:tensorflow:loss = 82369740000.0, step = 10300 (0.469 sec)\n",
            "INFO:tensorflow:global_step/sec: 222.788\n",
            "INFO:tensorflow:loss = 47032150000.0, step = 10400 (0.449 sec)\n",
            "INFO:tensorflow:global_step/sec: 213.27\n",
            "INFO:tensorflow:loss = 86759340000.0, step = 10500 (0.467 sec)\n",
            "INFO:tensorflow:global_step/sec: 225.721\n",
            "INFO:tensorflow:loss = 118632686000.0, step = 10600 (0.442 sec)\n",
            "INFO:tensorflow:global_step/sec: 218.824\n",
            "INFO:tensorflow:loss = 173461240000.0, step = 10700 (0.459 sec)\n",
            "INFO:tensorflow:global_step/sec: 229.61\n",
            "INFO:tensorflow:loss = 93416290000.0, step = 10800 (0.435 sec)\n",
            "INFO:tensorflow:global_step/sec: 213.81\n",
            "INFO:tensorflow:loss = 81458050000.0, step = 10900 (0.470 sec)\n",
            "INFO:tensorflow:global_step/sec: 212.838\n",
            "INFO:tensorflow:loss = 64507855000.0, step = 11000 (0.468 sec)\n",
            "INFO:tensorflow:global_step/sec: 224.177\n",
            "INFO:tensorflow:loss = 89970940000.0, step = 11100 (0.447 sec)\n",
            "INFO:tensorflow:global_step/sec: 204.997\n",
            "INFO:tensorflow:loss = 116445010000.0, step = 11200 (0.488 sec)\n",
            "INFO:tensorflow:global_step/sec: 212.098\n",
            "INFO:tensorflow:loss = 78986180000.0, step = 11300 (0.469 sec)\n",
            "INFO:tensorflow:global_step/sec: 222.576\n",
            "INFO:tensorflow:loss = 84871135000.0, step = 11400 (0.451 sec)\n",
            "INFO:tensorflow:global_step/sec: 220.496\n",
            "INFO:tensorflow:loss = 170267000000.0, step = 11500 (0.455 sec)\n",
            "INFO:tensorflow:global_step/sec: 205.593\n",
            "INFO:tensorflow:loss = 59477410000.0, step = 11600 (0.486 sec)\n",
            "INFO:tensorflow:global_step/sec: 209.851\n",
            "INFO:tensorflow:loss = 65697776000.0, step = 11700 (0.479 sec)\n",
            "INFO:tensorflow:global_step/sec: 207.836\n",
            "INFO:tensorflow:loss = 154791280000.0, step = 11800 (0.476 sec)\n",
            "INFO:tensorflow:global_step/sec: 220.778\n",
            "INFO:tensorflow:loss = 48232250000.0, step = 11900 (0.456 sec)\n",
            "INFO:tensorflow:global_step/sec: 210.216\n",
            "INFO:tensorflow:loss = 145550900000.0, step = 12000 (0.472 sec)\n",
            "INFO:tensorflow:global_step/sec: 202.155\n",
            "INFO:tensorflow:loss = 203319570000.0, step = 12100 (0.496 sec)\n",
            "INFO:tensorflow:global_step/sec: 218.147\n",
            "INFO:tensorflow:loss = 34546475000.0, step = 12200 (0.460 sec)\n",
            "INFO:tensorflow:global_step/sec: 222.998\n",
            "INFO:tensorflow:loss = 110327650000.0, step = 12300 (0.448 sec)\n",
            "INFO:tensorflow:global_step/sec: 210.635\n",
            "INFO:tensorflow:loss = 41550406000.0, step = 12400 (0.472 sec)\n",
            "INFO:tensorflow:global_step/sec: 214.728\n",
            "INFO:tensorflow:loss = 116647970000.0, step = 12500 (0.468 sec)\n",
            "INFO:tensorflow:global_step/sec: 218.574\n",
            "INFO:tensorflow:loss = 72088700000.0, step = 12600 (0.459 sec)\n",
            "INFO:tensorflow:global_step/sec: 224.672\n",
            "INFO:tensorflow:loss = 102709470000.0, step = 12700 (0.444 sec)\n",
            "INFO:tensorflow:global_step/sec: 212.394\n",
            "INFO:tensorflow:loss = 116384400000.0, step = 12800 (0.472 sec)\n",
            "INFO:tensorflow:global_step/sec: 211.29\n",
            "INFO:tensorflow:loss = 107321836000.0, step = 12900 (0.473 sec)\n",
            "INFO:tensorflow:global_step/sec: 223.528\n",
            "INFO:tensorflow:loss = 174852340000.0, step = 13000 (0.444 sec)\n",
            "INFO:tensorflow:global_step/sec: 227.005\n",
            "INFO:tensorflow:loss = 40158250000.0, step = 13100 (0.442 sec)\n",
            "INFO:tensorflow:global_step/sec: 217.003\n",
            "INFO:tensorflow:loss = 35017540000.0, step = 13200 (0.462 sec)\n",
            "INFO:tensorflow:global_step/sec: 217.284\n",
            "INFO:tensorflow:loss = 71152640000.0, step = 13300 (0.460 sec)\n",
            "INFO:tensorflow:global_step/sec: 216.254\n",
            "INFO:tensorflow:loss = 31551625000.0, step = 13400 (0.463 sec)\n",
            "INFO:tensorflow:global_step/sec: 211.601\n",
            "INFO:tensorflow:loss = 121114034000.0, step = 13500 (0.473 sec)\n",
            "INFO:tensorflow:global_step/sec: 213.701\n",
            "INFO:tensorflow:loss = 97552410000.0, step = 13600 (0.467 sec)\n",
            "INFO:tensorflow:global_step/sec: 218.581\n",
            "INFO:tensorflow:loss = 46133645000.0, step = 13700 (0.457 sec)\n",
            "INFO:tensorflow:global_step/sec: 218.035\n",
            "INFO:tensorflow:loss = 95638490000.0, step = 13800 (0.457 sec)\n",
            "INFO:tensorflow:global_step/sec: 217.669\n",
            "INFO:tensorflow:loss = 93084280000.0, step = 13900 (0.458 sec)\n",
            "INFO:tensorflow:global_step/sec: 213.946\n",
            "INFO:tensorflow:loss = 132292610000.0, step = 14000 (0.469 sec)\n",
            "INFO:tensorflow:global_step/sec: 206.213\n",
            "INFO:tensorflow:loss = 62565440000.0, step = 14100 (0.486 sec)\n",
            "INFO:tensorflow:global_step/sec: 210.881\n",
            "INFO:tensorflow:loss = 69178460000.0, step = 14200 (0.475 sec)\n",
            "INFO:tensorflow:global_step/sec: 220.59\n",
            "INFO:tensorflow:loss = 78260720000.0, step = 14300 (0.453 sec)\n",
            "INFO:tensorflow:global_step/sec: 214.643\n",
            "INFO:tensorflow:loss = 88695600000.0, step = 14400 (0.464 sec)\n",
            "INFO:tensorflow:global_step/sec: 219.967\n",
            "INFO:tensorflow:loss = 187677670000.0, step = 14500 (0.457 sec)\n",
            "INFO:tensorflow:global_step/sec: 218.26\n",
            "INFO:tensorflow:loss = 53928520000.0, step = 14600 (0.457 sec)\n",
            "INFO:tensorflow:global_step/sec: 211.715\n",
            "INFO:tensorflow:loss = 141273120000.0, step = 14700 (0.473 sec)\n",
            "INFO:tensorflow:global_step/sec: 209.534\n",
            "INFO:tensorflow:loss = 107454250000.0, step = 14800 (0.477 sec)\n",
            "INFO:tensorflow:global_step/sec: 215.34\n",
            "INFO:tensorflow:loss = 69338560000.0, step = 14900 (0.466 sec)\n",
            "INFO:tensorflow:global_step/sec: 217.557\n",
            "INFO:tensorflow:loss = 166025500000.0, step = 15000 (0.458 sec)\n",
            "INFO:tensorflow:global_step/sec: 207.459\n",
            "INFO:tensorflow:loss = 57023400000.0, step = 15100 (0.483 sec)\n",
            "INFO:tensorflow:global_step/sec: 213.781\n",
            "INFO:tensorflow:loss = 88849990000.0, step = 15200 (0.464 sec)\n",
            "INFO:tensorflow:global_step/sec: 220.835\n",
            "INFO:tensorflow:loss = 89758140000.0, step = 15300 (0.453 sec)\n",
            "INFO:tensorflow:global_step/sec: 207.979\n",
            "INFO:tensorflow:loss = 83598295000.0, step = 15400 (0.484 sec)\n",
            "INFO:tensorflow:global_step/sec: 224.072\n",
            "INFO:tensorflow:loss = 251076080000.0, step = 15500 (0.446 sec)\n",
            "INFO:tensorflow:global_step/sec: 200.392\n",
            "INFO:tensorflow:loss = 111042580000.0, step = 15600 (0.500 sec)\n",
            "INFO:tensorflow:global_step/sec: 200.689\n",
            "INFO:tensorflow:loss = 74522790000.0, step = 15700 (0.500 sec)\n",
            "INFO:tensorflow:global_step/sec: 212.387\n",
            "INFO:tensorflow:loss = 59306150000.0, step = 15800 (0.470 sec)\n",
            "INFO:tensorflow:global_step/sec: 217.706\n",
            "INFO:tensorflow:loss = 54116170000.0, step = 15900 (0.459 sec)\n",
            "INFO:tensorflow:global_step/sec: 215.399\n",
            "INFO:tensorflow:loss = 74133660000.0, step = 16000 (0.464 sec)\n",
            "INFO:tensorflow:global_step/sec: 223.837\n",
            "INFO:tensorflow:loss = 140067260000.0, step = 16100 (0.446 sec)\n",
            "INFO:tensorflow:global_step/sec: 220.386\n",
            "INFO:tensorflow:loss = 112647410000.0, step = 16200 (0.453 sec)\n",
            "INFO:tensorflow:global_step/sec: 214.366\n",
            "INFO:tensorflow:loss = 40235480000.0, step = 16300 (0.468 sec)\n",
            "INFO:tensorflow:global_step/sec: 219.955\n",
            "INFO:tensorflow:loss = 97935510000.0, step = 16400 (0.451 sec)\n",
            "INFO:tensorflow:global_step/sec: 226.46\n",
            "INFO:tensorflow:loss = 53593514000.0, step = 16500 (0.444 sec)\n",
            "INFO:tensorflow:global_step/sec: 224.782\n",
            "INFO:tensorflow:loss = 93689050000.0, step = 16600 (0.445 sec)\n",
            "INFO:tensorflow:global_step/sec: 217.397\n",
            "INFO:tensorflow:loss = 127696570000.0, step = 16700 (0.460 sec)\n",
            "INFO:tensorflow:global_step/sec: 219.125\n",
            "INFO:tensorflow:loss = 69458820000.0, step = 16800 (0.457 sec)\n",
            "INFO:tensorflow:global_step/sec: 217.605\n",
            "INFO:tensorflow:loss = 25495546000.0, step = 16900 (0.459 sec)\n",
            "INFO:tensorflow:global_step/sec: 223.153\n",
            "INFO:tensorflow:loss = 116071970000.0, step = 17000 (0.446 sec)\n",
            "INFO:tensorflow:global_step/sec: 216.209\n",
            "INFO:tensorflow:loss = 46226088000.0, step = 17100 (0.465 sec)\n",
            "INFO:tensorflow:global_step/sec: 209.312\n",
            "INFO:tensorflow:loss = 47887380000.0, step = 17200 (0.479 sec)\n",
            "INFO:tensorflow:global_step/sec: 217.776\n",
            "INFO:tensorflow:loss = 116003270000.0, step = 17300 (0.459 sec)\n",
            "INFO:tensorflow:global_step/sec: 212.896\n",
            "INFO:tensorflow:loss = 88230580000.0, step = 17400 (0.467 sec)\n",
            "INFO:tensorflow:global_step/sec: 220.072\n",
            "INFO:tensorflow:loss = 113755870000.0, step = 17500 (0.456 sec)\n",
            "INFO:tensorflow:global_step/sec: 219.635\n",
            "INFO:tensorflow:loss = 93316310000.0, step = 17600 (0.455 sec)\n",
            "INFO:tensorflow:global_step/sec: 223.182\n",
            "INFO:tensorflow:loss = 110879180000.0, step = 17700 (0.448 sec)\n",
            "INFO:tensorflow:global_step/sec: 216.634\n",
            "INFO:tensorflow:loss = 145064000000.0, step = 17800 (0.461 sec)\n",
            "INFO:tensorflow:global_step/sec: 224.508\n",
            "INFO:tensorflow:loss = 79176516000.0, step = 17900 (0.443 sec)\n",
            "INFO:tensorflow:global_step/sec: 221.138\n",
            "INFO:tensorflow:loss = 29343076000.0, step = 18000 (0.452 sec)\n",
            "INFO:tensorflow:global_step/sec: 211.593\n",
            "INFO:tensorflow:loss = 91540455000.0, step = 18100 (0.478 sec)\n",
            "INFO:tensorflow:global_step/sec: 210.663\n",
            "INFO:tensorflow:loss = 152307220000.0, step = 18200 (0.470 sec)\n",
            "INFO:tensorflow:global_step/sec: 222.524\n",
            "INFO:tensorflow:loss = 68435610000.0, step = 18300 (0.453 sec)\n",
            "INFO:tensorflow:global_step/sec: 219.394\n",
            "INFO:tensorflow:loss = 66631463000.0, step = 18400 (0.452 sec)\n",
            "INFO:tensorflow:global_step/sec: 211.087\n",
            "INFO:tensorflow:loss = 49914315000.0, step = 18500 (0.476 sec)\n",
            "INFO:tensorflow:global_step/sec: 217.8\n",
            "INFO:tensorflow:loss = 46488510000.0, step = 18600 (0.460 sec)\n",
            "INFO:tensorflow:global_step/sec: 213.484\n",
            "INFO:tensorflow:loss = 55563440000.0, step = 18700 (0.468 sec)\n",
            "INFO:tensorflow:global_step/sec: 225.669\n",
            "INFO:tensorflow:loss = 67135594000.0, step = 18800 (0.443 sec)\n",
            "INFO:tensorflow:global_step/sec: 224.665\n",
            "INFO:tensorflow:loss = 57256240000.0, step = 18900 (0.442 sec)\n",
            "INFO:tensorflow:global_step/sec: 222.303\n",
            "INFO:tensorflow:loss = 87059940000.0, step = 19000 (0.453 sec)\n",
            "INFO:tensorflow:global_step/sec: 208.626\n",
            "INFO:tensorflow:loss = 77299140000.0, step = 19100 (0.477 sec)\n",
            "INFO:tensorflow:global_step/sec: 210.759\n",
            "INFO:tensorflow:loss = 114364990000.0, step = 19200 (0.476 sec)\n",
            "INFO:tensorflow:global_step/sec: 218.154\n",
            "INFO:tensorflow:loss = 92998920000.0, step = 19300 (0.459 sec)\n",
            "INFO:tensorflow:global_step/sec: 215.805\n",
            "INFO:tensorflow:loss = 80122446000.0, step = 19400 (0.464 sec)\n",
            "INFO:tensorflow:global_step/sec: 212.901\n",
            "INFO:tensorflow:loss = 149790590000.0, step = 19500 (0.468 sec)\n",
            "INFO:tensorflow:global_step/sec: 205.828\n",
            "INFO:tensorflow:loss = 30355513000.0, step = 19600 (0.485 sec)\n",
            "INFO:tensorflow:global_step/sec: 216.378\n",
            "INFO:tensorflow:loss = 92332016000.0, step = 19700 (0.465 sec)\n",
            "INFO:tensorflow:global_step/sec: 203.97\n",
            "INFO:tensorflow:loss = 70668140000.0, step = 19800 (0.490 sec)\n",
            "INFO:tensorflow:global_step/sec: 212.787\n",
            "INFO:tensorflow:loss = 67140702000.0, step = 19900 (0.470 sec)\n",
            "INFO:tensorflow:global_step/sec: 210.509\n",
            "INFO:tensorflow:loss = 128105290000.0, step = 20000 (0.475 sec)\n",
            "INFO:tensorflow:global_step/sec: 223.001\n",
            "INFO:tensorflow:loss = 270544900000.0, step = 20100 (0.449 sec)\n",
            "INFO:tensorflow:global_step/sec: 214.542\n",
            "INFO:tensorflow:loss = 74752130000.0, step = 20200 (0.463 sec)\n",
            "INFO:tensorflow:global_step/sec: 212.492\n",
            "INFO:tensorflow:loss = 63512380000.0, step = 20300 (0.471 sec)\n",
            "INFO:tensorflow:global_step/sec: 203.068\n",
            "INFO:tensorflow:loss = 64014720000.0, step = 20400 (0.492 sec)\n",
            "INFO:tensorflow:global_step/sec: 214.759\n",
            "INFO:tensorflow:loss = 59895243000.0, step = 20500 (0.469 sec)\n",
            "INFO:tensorflow:global_step/sec: 228.01\n",
            "INFO:tensorflow:loss = 116537840000.0, step = 20600 (0.435 sec)\n",
            "INFO:tensorflow:global_step/sec: 205.187\n",
            "INFO:tensorflow:loss = 107090370000.0, step = 20700 (0.489 sec)\n",
            "INFO:tensorflow:global_step/sec: 224.324\n",
            "INFO:tensorflow:loss = 86635340000.0, step = 20800 (0.443 sec)\n",
            "INFO:tensorflow:global_step/sec: 219.589\n",
            "INFO:tensorflow:loss = 182992340000.0, step = 20900 (0.458 sec)\n",
            "INFO:tensorflow:global_step/sec: 225.889\n",
            "INFO:tensorflow:loss = 86938616000.0, step = 21000 (0.443 sec)\n",
            "INFO:tensorflow:global_step/sec: 209.919\n",
            "INFO:tensorflow:loss = 99177440000.0, step = 21100 (0.475 sec)\n",
            "INFO:tensorflow:global_step/sec: 215.64\n",
            "INFO:tensorflow:loss = 96297380000.0, step = 21200 (0.466 sec)\n",
            "INFO:tensorflow:global_step/sec: 217.574\n",
            "INFO:tensorflow:loss = 38034182000.0, step = 21300 (0.458 sec)\n",
            "INFO:tensorflow:global_step/sec: 213.756\n",
            "INFO:tensorflow:loss = 74737920000.0, step = 21400 (0.469 sec)\n",
            "INFO:tensorflow:global_step/sec: 205.013\n",
            "INFO:tensorflow:loss = 85973580000.0, step = 21500 (0.489 sec)\n",
            "INFO:tensorflow:global_step/sec: 219.117\n",
            "INFO:tensorflow:loss = 248425170000.0, step = 21600 (0.455 sec)\n",
            "INFO:tensorflow:global_step/sec: 221.336\n",
            "INFO:tensorflow:loss = 101112840000.0, step = 21700 (0.452 sec)\n",
            "INFO:tensorflow:global_step/sec: 209.47\n",
            "INFO:tensorflow:loss = 89110430000.0, step = 21800 (0.478 sec)\n",
            "INFO:tensorflow:global_step/sec: 225.026\n",
            "INFO:tensorflow:loss = 137218590000.0, step = 21900 (0.445 sec)\n",
            "INFO:tensorflow:global_step/sec: 216.658\n",
            "INFO:tensorflow:loss = 90265035000.0, step = 22000 (0.463 sec)\n",
            "INFO:tensorflow:global_step/sec: 218.177\n",
            "INFO:tensorflow:loss = 140815560000.0, step = 22100 (0.455 sec)\n",
            "INFO:tensorflow:global_step/sec: 220.551\n",
            "INFO:tensorflow:loss = 121580010000.0, step = 22200 (0.454 sec)\n",
            "INFO:tensorflow:global_step/sec: 216.916\n",
            "INFO:tensorflow:loss = 95025380000.0, step = 22300 (0.458 sec)\n",
            "INFO:tensorflow:global_step/sec: 219.777\n",
            "INFO:tensorflow:loss = 40866370000.0, step = 22400 (0.457 sec)\n",
            "INFO:tensorflow:global_step/sec: 218.583\n",
            "INFO:tensorflow:loss = 48279867000.0, step = 22500 (0.458 sec)\n",
            "INFO:tensorflow:global_step/sec: 220.607\n",
            "INFO:tensorflow:loss = 93207904000.0, step = 22600 (0.456 sec)\n",
            "INFO:tensorflow:global_step/sec: 192.732\n",
            "INFO:tensorflow:loss = 135249890000.0, step = 22700 (0.513 sec)\n",
            "INFO:tensorflow:global_step/sec: 217.076\n",
            "INFO:tensorflow:loss = 74560520000.0, step = 22800 (0.463 sec)\n",
            "INFO:tensorflow:global_step/sec: 214.917\n",
            "INFO:tensorflow:loss = 74562675000.0, step = 22900 (0.464 sec)\n",
            "INFO:tensorflow:global_step/sec: 229.971\n",
            "INFO:tensorflow:loss = 64025510000.0, step = 23000 (0.438 sec)\n",
            "INFO:tensorflow:global_step/sec: 213.129\n",
            "INFO:tensorflow:loss = 97533440000.0, step = 23100 (0.467 sec)\n",
            "INFO:tensorflow:global_step/sec: 225.447\n",
            "INFO:tensorflow:loss = 104722810000.0, step = 23200 (0.443 sec)\n",
            "INFO:tensorflow:global_step/sec: 214.909\n",
            "INFO:tensorflow:loss = 48742760000.0, step = 23300 (0.467 sec)\n",
            "INFO:tensorflow:global_step/sec: 218.117\n",
            "INFO:tensorflow:loss = 67236733000.0, step = 23400 (0.458 sec)\n",
            "INFO:tensorflow:global_step/sec: 211.735\n",
            "INFO:tensorflow:loss = 119651434000.0, step = 23500 (0.472 sec)\n",
            "INFO:tensorflow:global_step/sec: 221.061\n",
            "INFO:tensorflow:loss = 57061736000.0, step = 23600 (0.451 sec)\n",
            "INFO:tensorflow:global_step/sec: 229.661\n",
            "INFO:tensorflow:loss = 59070480000.0, step = 23700 (0.437 sec)\n",
            "INFO:tensorflow:global_step/sec: 210.483\n",
            "INFO:tensorflow:loss = 155934180000.0, step = 23800 (0.474 sec)\n",
            "INFO:tensorflow:global_step/sec: 214.89\n",
            "INFO:tensorflow:loss = 74915490000.0, step = 23900 (0.467 sec)\n",
            "INFO:tensorflow:global_step/sec: 210.613\n",
            "INFO:tensorflow:loss = 70075770000.0, step = 24000 (0.476 sec)\n",
            "INFO:tensorflow:global_step/sec: 208.79\n",
            "INFO:tensorflow:loss = 153535790000.0, step = 24100 (0.476 sec)\n",
            "INFO:tensorflow:global_step/sec: 205.033\n",
            "INFO:tensorflow:loss = 61403898000.0, step = 24200 (0.487 sec)\n",
            "INFO:tensorflow:global_step/sec: 212.597\n",
            "INFO:tensorflow:loss = 23469527000.0, step = 24300 (0.473 sec)\n",
            "INFO:tensorflow:global_step/sec: 196.868\n",
            "INFO:tensorflow:loss = 103431450000.0, step = 24400 (0.508 sec)\n",
            "INFO:tensorflow:global_step/sec: 221.712\n",
            "INFO:tensorflow:loss = 117915300000.0, step = 24500 (0.448 sec)\n",
            "INFO:tensorflow:global_step/sec: 217.134\n",
            "INFO:tensorflow:loss = 49763070000.0, step = 24600 (0.460 sec)\n",
            "INFO:tensorflow:global_step/sec: 217.368\n",
            "INFO:tensorflow:loss = 74164030000.0, step = 24700 (0.463 sec)\n",
            "INFO:tensorflow:global_step/sec: 223.665\n",
            "INFO:tensorflow:loss = 88277660000.0, step = 24800 (0.445 sec)\n",
            "INFO:tensorflow:global_step/sec: 212.151\n",
            "INFO:tensorflow:loss = 57762554000.0, step = 24900 (0.474 sec)\n",
            "INFO:tensorflow:Saving checkpoints for 25000 into /tmp/tmpwutvghk5/model.ckpt.\n",
            "INFO:tensorflow:Loss for final step: 63390820000.0.\n"
          ],
          "name": "stdout"
        },
        {
          "output_type": "execute_result",
          "data": {
            "text/plain": [
              "<tensorflow_estimator.python.estimator.canned.dnn.DNNRegressor at 0x7f82a687deb8>"
            ]
          },
          "metadata": {
            "tags": []
          },
          "execution_count": 20
        }
      ]
    },
    {
      "cell_type": "code",
      "metadata": {
        "id": "6-tvqHBD2X_g",
        "colab_type": "code",
        "colab": {}
      },
      "source": [
        "predict_input_func = tf.estimator.inputs.pandas_input_fn(\n",
        "      x=X_test,\n",
        "      batch_size=10,\n",
        "      num_epochs=1,\n",
        "      shuffle=False)"
      ],
      "execution_count": 0,
      "outputs": []
    },
    {
      "cell_type": "code",
      "metadata": {
        "id": "o5LCsV232X_j",
        "colab_type": "code",
        "colab": {}
      },
      "source": [
        "pred_gen = model.predict(predict_input_func)"
      ],
      "execution_count": 0,
      "outputs": []
    },
    {
      "cell_type": "code",
      "metadata": {
        "id": "2UpaNycN2X_m",
        "colab_type": "code",
        "colab": {
          "base_uri": "https://localhost:8080/",
          "height": 117
        },
        "outputId": "072d99e8-26f7-44f1-8546-69144e68a210"
      },
      "source": [
        "predictions = list(pred_gen)"
      ],
      "execution_count": 23,
      "outputs": [
        {
          "output_type": "stream",
          "text": [
            "INFO:tensorflow:Calling model_fn.\n",
            "INFO:tensorflow:Done calling model_fn.\n",
            "INFO:tensorflow:Graph was finalized.\n",
            "INFO:tensorflow:Restoring parameters from /tmp/tmpwutvghk5/model.ckpt-25000\n",
            "INFO:tensorflow:Running local_init_op.\n",
            "INFO:tensorflow:Done running local_init_op.\n"
          ],
          "name": "stdout"
        }
      ]
    },
    {
      "cell_type": "code",
      "metadata": {
        "id": "9zxfuPIz2X_p",
        "colab_type": "code",
        "colab": {}
      },
      "source": [
        "final_preds = []\n",
        "for pred in predictions:\n",
        "    final_preds.append(pred['predictions'])"
      ],
      "execution_count": 0,
      "outputs": []
    },
    {
      "cell_type": "code",
      "metadata": {
        "id": "w-eIR96q2X_z",
        "colab_type": "code",
        "colab": {}
      },
      "source": [
        "from sklearn.metrics import mean_squared_error"
      ],
      "execution_count": 0,
      "outputs": []
    },
    {
      "cell_type": "code",
      "metadata": {
        "id": "8U91ZdO82X_3",
        "colab_type": "code",
        "colab": {
          "base_uri": "https://localhost:8080/",
          "height": 33
        },
        "outputId": "b87ad44c-d549-428c-8880-7975ef7a5e25"
      },
      "source": [
        "mean_squared_error(y_test,final_preds)**0.5"
      ],
      "execution_count": 26,
      "outputs": [
        {
          "output_type": "execute_result",
          "data": {
            "text/plain": [
              "92756.06233367222"
            ]
          },
          "metadata": {
            "tags": []
          },
          "execution_count": 26
        }
      ]
    }
  ]
}