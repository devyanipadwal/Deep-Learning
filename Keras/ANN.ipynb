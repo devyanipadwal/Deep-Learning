{
  "nbformat": 4,
  "nbformat_minor": 0,
  "metadata": {
    "colab": {
      "name": "ANN.ipynb",
      "provenance": [],
      "collapsed_sections": [],
      "toc_visible": true
    },
    "kernelspec": {
      "name": "python3",
      "display_name": "Python 3"
    },
    "accelerator": "GPU"
  },
  "cells": [
    {
      "cell_type": "code",
      "metadata": {
        "id": "vuxQcCkNURi0",
        "colab_type": "code",
        "colab": {
          "base_uri": "https://localhost:8080/",
          "height": 1000
        },
        "outputId": "c21ad2f8-1823-4ea8-80bd-17a6de44c881"
      },
      "source": [
        "# Installing Tensorflow\n",
        "! pip install tensorflow-gpu==1.15\n",
        "# Installing Theano\n",
        "! pip install --upgrade --no-deps git+git://github.com/Theano/Theano.git\n",
        "# Installing Keras\n",
        "! pip install --upgrade keras"
      ],
      "execution_count": 1,
      "outputs": [
        {
          "output_type": "stream",
          "text": [
            "Collecting tensorflow-gpu==1.15\n",
            "\u001b[?25l  Downloading https://files.pythonhosted.org/packages/a5/ad/933140e74973fb917a194ab814785e7c23680ca5dee6d663a509fe9579b6/tensorflow_gpu-1.15.0-cp36-cp36m-manylinux2010_x86_64.whl (411.5MB)\n",
            "\u001b[K     |████████████████████████████████| 411.5MB 42kB/s \n",
            "\u001b[?25hRequirement already satisfied: numpy<2.0,>=1.16.0 in /usr/local/lib/python3.6/dist-packages (from tensorflow-gpu==1.15) (1.18.4)\n",
            "Requirement already satisfied: grpcio>=1.8.6 in /usr/local/lib/python3.6/dist-packages (from tensorflow-gpu==1.15) (1.29.0)\n",
            "Requirement already satisfied: wheel>=0.26 in /usr/local/lib/python3.6/dist-packages (from tensorflow-gpu==1.15) (0.34.2)\n",
            "Requirement already satisfied: termcolor>=1.1.0 in /usr/local/lib/python3.6/dist-packages (from tensorflow-gpu==1.15) (1.1.0)\n",
            "Collecting tensorboard<1.16.0,>=1.15.0\n",
            "\u001b[?25l  Downloading https://files.pythonhosted.org/packages/1e/e9/d3d747a97f7188f48aa5eda486907f3b345cd409f0a0850468ba867db246/tensorboard-1.15.0-py3-none-any.whl (3.8MB)\n",
            "\u001b[K     |████████████████████████████████| 3.8MB 48.1MB/s \n",
            "\u001b[?25hRequirement already satisfied: astor>=0.6.0 in /usr/local/lib/python3.6/dist-packages (from tensorflow-gpu==1.15) (0.8.1)\n",
            "Collecting tensorflow-estimator==1.15.1\n",
            "\u001b[?25l  Downloading https://files.pythonhosted.org/packages/de/62/2ee9cd74c9fa2fa450877847ba560b260f5d0fb70ee0595203082dafcc9d/tensorflow_estimator-1.15.1-py2.py3-none-any.whl (503kB)\n",
            "\u001b[K     |████████████████████████████████| 512kB 55.8MB/s \n",
            "\u001b[?25hRequirement already satisfied: opt-einsum>=2.3.2 in /usr/local/lib/python3.6/dist-packages (from tensorflow-gpu==1.15) (3.2.1)\n",
            "Collecting gast==0.2.2\n",
            "  Downloading https://files.pythonhosted.org/packages/4e/35/11749bf99b2d4e3cceb4d55ca22590b0d7c2c62b9de38ac4a4a7f4687421/gast-0.2.2.tar.gz\n",
            "Requirement already satisfied: keras-preprocessing>=1.0.5 in /usr/local/lib/python3.6/dist-packages (from tensorflow-gpu==1.15) (1.1.2)\n",
            "Requirement already satisfied: absl-py>=0.7.0 in /usr/local/lib/python3.6/dist-packages (from tensorflow-gpu==1.15) (0.9.0)\n",
            "Requirement already satisfied: six>=1.10.0 in /usr/local/lib/python3.6/dist-packages (from tensorflow-gpu==1.15) (1.12.0)\n",
            "Requirement already satisfied: google-pasta>=0.1.6 in /usr/local/lib/python3.6/dist-packages (from tensorflow-gpu==1.15) (0.2.0)\n",
            "Requirement already satisfied: wrapt>=1.11.1 in /usr/local/lib/python3.6/dist-packages (from tensorflow-gpu==1.15) (1.12.1)\n",
            "Requirement already satisfied: protobuf>=3.6.1 in /usr/local/lib/python3.6/dist-packages (from tensorflow-gpu==1.15) (3.10.0)\n",
            "Requirement already satisfied: keras-applications>=1.0.8 in /usr/local/lib/python3.6/dist-packages (from tensorflow-gpu==1.15) (1.0.8)\n",
            "Requirement already satisfied: setuptools>=41.0.0 in /usr/local/lib/python3.6/dist-packages (from tensorboard<1.16.0,>=1.15.0->tensorflow-gpu==1.15) (46.3.0)\n",
            "Requirement already satisfied: markdown>=2.6.8 in /usr/local/lib/python3.6/dist-packages (from tensorboard<1.16.0,>=1.15.0->tensorflow-gpu==1.15) (3.2.2)\n",
            "Requirement already satisfied: werkzeug>=0.11.15 in /usr/local/lib/python3.6/dist-packages (from tensorboard<1.16.0,>=1.15.0->tensorflow-gpu==1.15) (1.0.1)\n",
            "Requirement already satisfied: h5py in /usr/local/lib/python3.6/dist-packages (from keras-applications>=1.0.8->tensorflow-gpu==1.15) (2.10.0)\n",
            "Requirement already satisfied: importlib-metadata; python_version < \"3.8\" in /usr/local/lib/python3.6/dist-packages (from markdown>=2.6.8->tensorboard<1.16.0,>=1.15.0->tensorflow-gpu==1.15) (1.6.0)\n",
            "Requirement already satisfied: zipp>=0.5 in /usr/local/lib/python3.6/dist-packages (from importlib-metadata; python_version < \"3.8\"->markdown>=2.6.8->tensorboard<1.16.0,>=1.15.0->tensorflow-gpu==1.15) (3.1.0)\n",
            "Building wheels for collected packages: gast\n",
            "  Building wheel for gast (setup.py) ... \u001b[?25l\u001b[?25hdone\n",
            "  Created wheel for gast: filename=gast-0.2.2-cp36-none-any.whl size=7540 sha256=441435bb31cd9a1b88ef4cf6956d53b39fc4a996a19109597a1cba0e83d4bdef\n",
            "  Stored in directory: /root/.cache/pip/wheels/5c/2e/7e/a1d4d4fcebe6c381f378ce7743a3ced3699feb89bcfbdadadd\n",
            "Successfully built gast\n",
            "\u001b[31mERROR: tensorflow 2.2.0 has requirement gast==0.3.3, but you'll have gast 0.2.2 which is incompatible.\u001b[0m\n",
            "\u001b[31mERROR: tensorflow 2.2.0 has requirement tensorboard<2.3.0,>=2.2.0, but you'll have tensorboard 1.15.0 which is incompatible.\u001b[0m\n",
            "\u001b[31mERROR: tensorflow 2.2.0 has requirement tensorflow-estimator<2.3.0,>=2.2.0, but you'll have tensorflow-estimator 1.15.1 which is incompatible.\u001b[0m\n",
            "\u001b[31mERROR: tensorflow-probability 0.10.0 has requirement gast>=0.3.2, but you'll have gast 0.2.2 which is incompatible.\u001b[0m\n",
            "Installing collected packages: tensorboard, tensorflow-estimator, gast, tensorflow-gpu\n",
            "  Found existing installation: tensorboard 2.2.1\n",
            "    Uninstalling tensorboard-2.2.1:\n",
            "      Successfully uninstalled tensorboard-2.2.1\n",
            "  Found existing installation: tensorflow-estimator 2.2.0\n",
            "    Uninstalling tensorflow-estimator-2.2.0:\n",
            "      Successfully uninstalled tensorflow-estimator-2.2.0\n",
            "  Found existing installation: gast 0.3.3\n",
            "    Uninstalling gast-0.3.3:\n",
            "      Successfully uninstalled gast-0.3.3\n",
            "Successfully installed gast-0.2.2 tensorboard-1.15.0 tensorflow-estimator-1.15.1 tensorflow-gpu-1.15.0\n",
            "Collecting git+git://github.com/Theano/Theano.git\n",
            "  Cloning git://github.com/Theano/Theano.git to /tmp/pip-req-build-ei7frv_m\n",
            "  Running command git clone -q git://github.com/Theano/Theano.git /tmp/pip-req-build-ei7frv_m\n",
            "Building wheels for collected packages: Theano\n",
            "  Building wheel for Theano (setup.py) ... \u001b[?25l\u001b[?25hdone\n",
            "  Created wheel for Theano: filename=Theano-1.0.4+51.gf1e4ec47c-cp36-none-any.whl size=2667983 sha256=237d7187247e4ce5cffd9bd4cd3ddfd653008d8e6b27f8561b0640b3af45a602\n",
            "  Stored in directory: /tmp/pip-ephem-wheel-cache-nhfmcamb/wheels/ae/32/7c/62beb8371953eb20c271b3bac7d0e56e1a2020d46994346b52\n",
            "Successfully built Theano\n",
            "Installing collected packages: Theano\n",
            "  Found existing installation: Theano 1.0.4\n",
            "    Uninstalling Theano-1.0.4:\n",
            "      Successfully uninstalled Theano-1.0.4\n",
            "Successfully installed Theano-1.0.4+51.gf1e4ec47c\n",
            "Requirement already up-to-date: keras in /usr/local/lib/python3.6/dist-packages (2.3.1)\n",
            "Requirement already satisfied, skipping upgrade: h5py in /usr/local/lib/python3.6/dist-packages (from keras) (2.10.0)\n",
            "Requirement already satisfied, skipping upgrade: keras-preprocessing>=1.0.5 in /usr/local/lib/python3.6/dist-packages (from keras) (1.1.2)\n",
            "Requirement already satisfied, skipping upgrade: six>=1.9.0 in /usr/local/lib/python3.6/dist-packages (from keras) (1.12.0)\n",
            "Requirement already satisfied, skipping upgrade: numpy>=1.9.1 in /usr/local/lib/python3.6/dist-packages (from keras) (1.18.4)\n",
            "Requirement already satisfied, skipping upgrade: keras-applications>=1.0.6 in /usr/local/lib/python3.6/dist-packages (from keras) (1.0.8)\n",
            "Requirement already satisfied, skipping upgrade: pyyaml in /usr/local/lib/python3.6/dist-packages (from keras) (3.13)\n",
            "Requirement already satisfied, skipping upgrade: scipy>=0.14 in /usr/local/lib/python3.6/dist-packages (from keras) (1.4.1)\n"
          ],
          "name": "stdout"
        }
      ]
    },
    {
      "cell_type": "code",
      "metadata": {
        "id": "MfdkZDwKVEKU",
        "colab_type": "code",
        "colab": {
          "base_uri": "https://localhost:8080/",
          "height": 120
        },
        "outputId": "e13aeccc-6957-43ad-d577-ceb51882160a"
      },
      "source": [
        "from google.colab import drive\n",
        "drive.mount('/content/drive')"
      ],
      "execution_count": 2,
      "outputs": [
        {
          "output_type": "stream",
          "text": [
            "Go to this URL in a browser: https://accounts.google.com/o/oauth2/auth?client_id=947318989803-6bn6qk8qdgf4n4g3pfee6491hc0brc4i.apps.googleusercontent.com&redirect_uri=urn%3aietf%3awg%3aoauth%3a2.0%3aoob&response_type=code&scope=email%20https%3a%2f%2fwww.googleapis.com%2fauth%2fdocs.test%20https%3a%2f%2fwww.googleapis.com%2fauth%2fdrive%20https%3a%2f%2fwww.googleapis.com%2fauth%2fdrive.photos.readonly%20https%3a%2f%2fwww.googleapis.com%2fauth%2fpeopleapi.readonly\n",
            "\n",
            "Enter your authorization code:\n",
            "··········\n",
            "Mounted at /content/drive\n"
          ],
          "name": "stdout"
        }
      ]
    },
    {
      "cell_type": "code",
      "metadata": {
        "id": "8pN9a4it0QQZ",
        "colab_type": "code",
        "colab": {}
      },
      "source": [
        "# Importing the libraries\n",
        "import numpy as np\n",
        "import matplotlib.pyplot as plt\n",
        "import pandas as pd\n",
        "\n",
        "# Importing the dataset\n",
        "dataset = pd.read_csv('Churn_Modelling.csv')\n",
        "X = dataset.drop(['RowNumber', 'CustomerId', 'Surname', 'Exited'], axis = 1)\n",
        "y = dataset[['Exited']]"
      ],
      "execution_count": 0,
      "outputs": []
    },
    {
      "cell_type": "code",
      "metadata": {
        "id": "Ue85LAhR1yta",
        "colab_type": "code",
        "colab": {
          "base_uri": "https://localhost:8080/",
          "height": 196
        },
        "outputId": "e2154df2-57c0-4b9d-b586-32565b10ff8f"
      },
      "source": [
        "X.head()"
      ],
      "execution_count": 2,
      "outputs": [
        {
          "output_type": "execute_result",
          "data": {
            "text/html": [
              "<div>\n",
              "<style scoped>\n",
              "    .dataframe tbody tr th:only-of-type {\n",
              "        vertical-align: middle;\n",
              "    }\n",
              "\n",
              "    .dataframe tbody tr th {\n",
              "        vertical-align: top;\n",
              "    }\n",
              "\n",
              "    .dataframe thead th {\n",
              "        text-align: right;\n",
              "    }\n",
              "</style>\n",
              "<table border=\"1\" class=\"dataframe\">\n",
              "  <thead>\n",
              "    <tr style=\"text-align: right;\">\n",
              "      <th></th>\n",
              "      <th>CreditScore</th>\n",
              "      <th>Geography</th>\n",
              "      <th>Gender</th>\n",
              "      <th>Age</th>\n",
              "      <th>Tenure</th>\n",
              "      <th>Balance</th>\n",
              "      <th>NumOfProducts</th>\n",
              "      <th>HasCrCard</th>\n",
              "      <th>IsActiveMember</th>\n",
              "      <th>EstimatedSalary</th>\n",
              "    </tr>\n",
              "  </thead>\n",
              "  <tbody>\n",
              "    <tr>\n",
              "      <th>0</th>\n",
              "      <td>619</td>\n",
              "      <td>France</td>\n",
              "      <td>Female</td>\n",
              "      <td>42</td>\n",
              "      <td>2</td>\n",
              "      <td>0.00</td>\n",
              "      <td>1</td>\n",
              "      <td>1</td>\n",
              "      <td>1</td>\n",
              "      <td>101348.88</td>\n",
              "    </tr>\n",
              "    <tr>\n",
              "      <th>1</th>\n",
              "      <td>608</td>\n",
              "      <td>Spain</td>\n",
              "      <td>Female</td>\n",
              "      <td>41</td>\n",
              "      <td>1</td>\n",
              "      <td>83807.86</td>\n",
              "      <td>1</td>\n",
              "      <td>0</td>\n",
              "      <td>1</td>\n",
              "      <td>112542.58</td>\n",
              "    </tr>\n",
              "    <tr>\n",
              "      <th>2</th>\n",
              "      <td>502</td>\n",
              "      <td>France</td>\n",
              "      <td>Female</td>\n",
              "      <td>42</td>\n",
              "      <td>8</td>\n",
              "      <td>159660.80</td>\n",
              "      <td>3</td>\n",
              "      <td>1</td>\n",
              "      <td>0</td>\n",
              "      <td>113931.57</td>\n",
              "    </tr>\n",
              "    <tr>\n",
              "      <th>3</th>\n",
              "      <td>699</td>\n",
              "      <td>France</td>\n",
              "      <td>Female</td>\n",
              "      <td>39</td>\n",
              "      <td>1</td>\n",
              "      <td>0.00</td>\n",
              "      <td>2</td>\n",
              "      <td>0</td>\n",
              "      <td>0</td>\n",
              "      <td>93826.63</td>\n",
              "    </tr>\n",
              "    <tr>\n",
              "      <th>4</th>\n",
              "      <td>850</td>\n",
              "      <td>Spain</td>\n",
              "      <td>Female</td>\n",
              "      <td>43</td>\n",
              "      <td>2</td>\n",
              "      <td>125510.82</td>\n",
              "      <td>1</td>\n",
              "      <td>1</td>\n",
              "      <td>1</td>\n",
              "      <td>79084.10</td>\n",
              "    </tr>\n",
              "  </tbody>\n",
              "</table>\n",
              "</div>"
            ],
            "text/plain": [
              "   CreditScore Geography  Gender  ...  HasCrCard  IsActiveMember  EstimatedSalary\n",
              "0          619    France  Female  ...          1               1        101348.88\n",
              "1          608     Spain  Female  ...          0               1        112542.58\n",
              "2          502    France  Female  ...          1               0        113931.57\n",
              "3          699    France  Female  ...          0               0         93826.63\n",
              "4          850     Spain  Female  ...          1               1         79084.10\n",
              "\n",
              "[5 rows x 10 columns]"
            ]
          },
          "metadata": {
            "tags": []
          },
          "execution_count": 2
        }
      ]
    },
    {
      "cell_type": "code",
      "metadata": {
        "id": "rwxC-Sf99Q4h",
        "colab_type": "code",
        "colab": {}
      },
      "source": [
        "# One Hot Encoding categorical variables\n",
        "X = pd.get_dummies(X)\n",
        "X = X.drop(['Geography_Spain', 'Gender_Male'], axis = 1)"
      ],
      "execution_count": 0,
      "outputs": []
    },
    {
      "cell_type": "code",
      "metadata": {
        "id": "k5BJBnZi_JhR",
        "colab_type": "code",
        "colab": {}
      },
      "source": [
        "# Splitting the dataset into the Training set and Test set\n",
        "from sklearn.model_selection import train_test_split\n",
        "X_train, X_test, y_train, y_test = train_test_split(X, y, test_size = 0.2, random_state = 0)"
      ],
      "execution_count": 0,
      "outputs": []
    },
    {
      "cell_type": "code",
      "metadata": {
        "id": "td1nwPElB17O",
        "colab_type": "code",
        "colab": {}
      },
      "source": [
        "# Feature Scaling\n",
        "from sklearn.preprocessing import StandardScaler\n",
        "sc = StandardScaler()\n",
        "X_train = sc.fit_transform(X_train)\n",
        "X_test = sc.transform(X_test)"
      ],
      "execution_count": 0,
      "outputs": []
    },
    {
      "cell_type": "code",
      "metadata": {
        "id": "PTZzQ0bzB6W2",
        "colab_type": "code",
        "colab": {
          "base_uri": "https://localhost:8080/",
          "height": 33
        },
        "outputId": "06989084-bf58-4d07-b9a0-89eda1fd4e7b"
      },
      "source": [
        "# Importing the Keras libraries and packages\n",
        "import keras\n",
        "from keras.models import Sequential\n",
        "from keras.layers import Dense"
      ],
      "execution_count": 6,
      "outputs": [
        {
          "output_type": "stream",
          "text": [
            "Using TensorFlow backend.\n"
          ],
          "name": "stderr"
        }
      ]
    },
    {
      "cell_type": "code",
      "metadata": {
        "id": "ooHf8c3bB__0",
        "colab_type": "code",
        "colab": {
          "base_uri": "https://localhost:8080/",
          "height": 1000
        },
        "outputId": "68103813-dad3-484d-edaf-d14966bea4b5"
      },
      "source": [
        "# Initialising the ANN\n",
        "classifier = Sequential()\n",
        "\n",
        "# Adding the input layer and the first hidden layer\n",
        "classifier.add(Dense(units = 6, kernel_initializer = 'uniform', activation = 'relu', input_dim = 11))\n",
        "\n",
        "# Adding the second hidden layer\n",
        "classifier.add(Dense(units = 6, kernel_initializer = 'uniform', activation = 'relu'))\n",
        "\n",
        "# Adding the output layer\n",
        "classifier.add(Dense(units = 1, kernel_initializer = 'uniform', activation = 'sigmoid'))\n",
        "\n",
        "# Compiling the ANN\n",
        "classifier.compile(optimizer = 'adam', loss = 'binary_crossentropy', metrics = ['accuracy'])\n",
        "\n",
        "# Fitting the ANN to the Training set\n",
        "classifier.fit(X_train, y_train, batch_size = 10, epochs = 100)"
      ],
      "execution_count": 7,
      "outputs": [
        {
          "output_type": "stream",
          "text": [
            "WARNING:tensorflow:From /usr/local/lib/python3.6/dist-packages/tensorflow_core/python/ops/resource_variable_ops.py:1630: calling BaseResourceVariable.__init__ (from tensorflow.python.ops.resource_variable_ops) with constraint is deprecated and will be removed in a future version.\n",
            "Instructions for updating:\n",
            "If using Keras pass *_constraint arguments to layers.\n",
            "WARNING:tensorflow:From /usr/local/lib/python3.6/dist-packages/tensorflow_core/python/ops/nn_impl.py:183: where (from tensorflow.python.ops.array_ops) is deprecated and will be removed in a future version.\n",
            "Instructions for updating:\n",
            "Use tf.where in 2.0, which has the same broadcast rule as np.where\n",
            "WARNING:tensorflow:From /usr/local/lib/python3.6/dist-packages/keras/backend/tensorflow_backend.py:422: The name tf.global_variables is deprecated. Please use tf.compat.v1.global_variables instead.\n",
            "\n",
            "Epoch 1/100\n",
            "8000/8000 [==============================] - 3s 422us/step - loss: 0.4813 - accuracy: 0.7960\n",
            "Epoch 2/100\n",
            "8000/8000 [==============================] - 2s 255us/step - loss: 0.4296 - accuracy: 0.7960\n",
            "Epoch 3/100\n",
            "8000/8000 [==============================] - 2s 250us/step - loss: 0.4257 - accuracy: 0.7960\n",
            "Epoch 4/100\n",
            "8000/8000 [==============================] - 2s 256us/step - loss: 0.4208 - accuracy: 0.8124\n",
            "Epoch 5/100\n",
            "8000/8000 [==============================] - 2s 250us/step - loss: 0.4173 - accuracy: 0.8239\n",
            "Epoch 6/100\n",
            "8000/8000 [==============================] - 2s 251us/step - loss: 0.4155 - accuracy: 0.8259\n",
            "Epoch 7/100\n",
            "8000/8000 [==============================] - 2s 253us/step - loss: 0.4128 - accuracy: 0.8281\n",
            "Epoch 8/100\n",
            "8000/8000 [==============================] - 2s 253us/step - loss: 0.4122 - accuracy: 0.8328\n",
            "Epoch 9/100\n",
            "8000/8000 [==============================] - 2s 255us/step - loss: 0.4112 - accuracy: 0.8341\n",
            "Epoch 10/100\n",
            "8000/8000 [==============================] - 2s 253us/step - loss: 0.4095 - accuracy: 0.8324\n",
            "Epoch 11/100\n",
            "8000/8000 [==============================] - 2s 256us/step - loss: 0.4086 - accuracy: 0.8342\n",
            "Epoch 12/100\n",
            "8000/8000 [==============================] - 2s 254us/step - loss: 0.4077 - accuracy: 0.8341\n",
            "Epoch 13/100\n",
            "8000/8000 [==============================] - 2s 256us/step - loss: 0.4072 - accuracy: 0.8319\n",
            "Epoch 14/100\n",
            "8000/8000 [==============================] - 2s 256us/step - loss: 0.4068 - accuracy: 0.8349\n",
            "Epoch 15/100\n",
            "8000/8000 [==============================] - 2s 253us/step - loss: 0.4064 - accuracy: 0.8350\n",
            "Epoch 16/100\n",
            "8000/8000 [==============================] - 2s 258us/step - loss: 0.4059 - accuracy: 0.8354\n",
            "Epoch 17/100\n",
            "8000/8000 [==============================] - 2s 254us/step - loss: 0.4052 - accuracy: 0.8341\n",
            "Epoch 18/100\n",
            "8000/8000 [==============================] - 2s 255us/step - loss: 0.4050 - accuracy: 0.8355\n",
            "Epoch 19/100\n",
            "8000/8000 [==============================] - 2s 250us/step - loss: 0.4045 - accuracy: 0.8355\n",
            "Epoch 20/100\n",
            "8000/8000 [==============================] - 2s 252us/step - loss: 0.4041 - accuracy: 0.8347\n",
            "Epoch 21/100\n",
            "8000/8000 [==============================] - 2s 250us/step - loss: 0.4038 - accuracy: 0.8344\n",
            "Epoch 22/100\n",
            "8000/8000 [==============================] - 2s 254us/step - loss: 0.4041 - accuracy: 0.8336\n",
            "Epoch 23/100\n",
            "8000/8000 [==============================] - 2s 260us/step - loss: 0.4037 - accuracy: 0.8364\n",
            "Epoch 24/100\n",
            "8000/8000 [==============================] - 2s 252us/step - loss: 0.4034 - accuracy: 0.8345\n",
            "Epoch 25/100\n",
            "8000/8000 [==============================] - 2s 263us/step - loss: 0.4030 - accuracy: 0.8346\n",
            "Epoch 26/100\n",
            "8000/8000 [==============================] - 2s 252us/step - loss: 0.4027 - accuracy: 0.8357\n",
            "Epoch 27/100\n",
            "8000/8000 [==============================] - 2s 261us/step - loss: 0.4024 - accuracy: 0.8345\n",
            "Epoch 28/100\n",
            "8000/8000 [==============================] - 2s 252us/step - loss: 0.4031 - accuracy: 0.8336\n",
            "Epoch 29/100\n",
            "8000/8000 [==============================] - 2s 253us/step - loss: 0.4020 - accuracy: 0.8350\n",
            "Epoch 30/100\n",
            "8000/8000 [==============================] - 2s 258us/step - loss: 0.4025 - accuracy: 0.8351\n",
            "Epoch 31/100\n",
            "8000/8000 [==============================] - 2s 250us/step - loss: 0.4025 - accuracy: 0.8350\n",
            "Epoch 32/100\n",
            "8000/8000 [==============================] - 2s 255us/step - loss: 0.4016 - accuracy: 0.8350\n",
            "Epoch 33/100\n",
            "8000/8000 [==============================] - 2s 254us/step - loss: 0.4016 - accuracy: 0.8344\n",
            "Epoch 34/100\n",
            "8000/8000 [==============================] - 2s 256us/step - loss: 0.4019 - accuracy: 0.8350\n",
            "Epoch 35/100\n",
            "8000/8000 [==============================] - 2s 256us/step - loss: 0.4017 - accuracy: 0.8357\n",
            "Epoch 36/100\n",
            "8000/8000 [==============================] - 2s 253us/step - loss: 0.4010 - accuracy: 0.8349\n",
            "Epoch 37/100\n",
            "8000/8000 [==============================] - 2s 254us/step - loss: 0.4016 - accuracy: 0.8336\n",
            "Epoch 38/100\n",
            "8000/8000 [==============================] - 2s 253us/step - loss: 0.4015 - accuracy: 0.8356\n",
            "Epoch 39/100\n",
            "8000/8000 [==============================] - 2s 250us/step - loss: 0.4012 - accuracy: 0.8342\n",
            "Epoch 40/100\n",
            "8000/8000 [==============================] - 2s 254us/step - loss: 0.4017 - accuracy: 0.8346\n",
            "Epoch 41/100\n",
            "8000/8000 [==============================] - 2s 256us/step - loss: 0.4015 - accuracy: 0.8350\n",
            "Epoch 42/100\n",
            "8000/8000 [==============================] - 2s 249us/step - loss: 0.4010 - accuracy: 0.8347\n",
            "Epoch 43/100\n",
            "8000/8000 [==============================] - 2s 254us/step - loss: 0.4011 - accuracy: 0.8347\n",
            "Epoch 44/100\n",
            "8000/8000 [==============================] - 2s 249us/step - loss: 0.4014 - accuracy: 0.8357\n",
            "Epoch 45/100\n",
            "8000/8000 [==============================] - 2s 252us/step - loss: 0.4009 - accuracy: 0.8349\n",
            "Epoch 46/100\n",
            "8000/8000 [==============================] - 2s 253us/step - loss: 0.4010 - accuracy: 0.8347\n",
            "Epoch 47/100\n",
            "8000/8000 [==============================] - 2s 253us/step - loss: 0.4009 - accuracy: 0.8355\n",
            "Epoch 48/100\n",
            "8000/8000 [==============================] - 2s 252us/step - loss: 0.4008 - accuracy: 0.8339\n",
            "Epoch 49/100\n",
            "8000/8000 [==============================] - 2s 251us/step - loss: 0.4008 - accuracy: 0.8338\n",
            "Epoch 50/100\n",
            "8000/8000 [==============================] - 2s 249us/step - loss: 0.4009 - accuracy: 0.8349\n",
            "Epoch 51/100\n",
            "8000/8000 [==============================] - 2s 257us/step - loss: 0.4010 - accuracy: 0.8345\n",
            "Epoch 52/100\n",
            "8000/8000 [==============================] - 2s 252us/step - loss: 0.4005 - accuracy: 0.8344\n",
            "Epoch 53/100\n",
            "8000/8000 [==============================] - 2s 253us/step - loss: 0.4004 - accuracy: 0.8355\n",
            "Epoch 54/100\n",
            "8000/8000 [==============================] - 2s 249us/step - loss: 0.4004 - accuracy: 0.8340\n",
            "Epoch 55/100\n",
            "8000/8000 [==============================] - 2s 260us/step - loss: 0.4012 - accuracy: 0.8346\n",
            "Epoch 56/100\n",
            "8000/8000 [==============================] - 2s 254us/step - loss: 0.4007 - accuracy: 0.8357\n",
            "Epoch 57/100\n",
            "8000/8000 [==============================] - 2s 250us/step - loss: 0.4005 - accuracy: 0.8339\n",
            "Epoch 58/100\n",
            "8000/8000 [==============================] - 2s 253us/step - loss: 0.4010 - accuracy: 0.8354\n",
            "Epoch 59/100\n",
            "8000/8000 [==============================] - 2s 250us/step - loss: 0.4001 - accuracy: 0.8347\n",
            "Epoch 60/100\n",
            "8000/8000 [==============================] - 2s 253us/step - loss: 0.4009 - accuracy: 0.8339\n",
            "Epoch 61/100\n",
            "8000/8000 [==============================] - 2s 258us/step - loss: 0.4005 - accuracy: 0.8356\n",
            "Epoch 62/100\n",
            "8000/8000 [==============================] - 2s 252us/step - loss: 0.4003 - accuracy: 0.8370\n",
            "Epoch 63/100\n",
            "8000/8000 [==============================] - 2s 255us/step - loss: 0.4005 - accuracy: 0.8336\n",
            "Epoch 64/100\n",
            "8000/8000 [==============================] - 2s 252us/step - loss: 0.3999 - accuracy: 0.8361\n",
            "Epoch 65/100\n",
            "8000/8000 [==============================] - 2s 259us/step - loss: 0.4008 - accuracy: 0.8344\n",
            "Epoch 66/100\n",
            "8000/8000 [==============================] - 2s 250us/step - loss: 0.4007 - accuracy: 0.8371\n",
            "Epoch 67/100\n",
            "8000/8000 [==============================] - 2s 256us/step - loss: 0.4002 - accuracy: 0.8338\n",
            "Epoch 68/100\n",
            "8000/8000 [==============================] - 2s 253us/step - loss: 0.4004 - accuracy: 0.8354\n",
            "Epoch 69/100\n",
            "8000/8000 [==============================] - 2s 252us/step - loss: 0.4008 - accuracy: 0.8349\n",
            "Epoch 70/100\n",
            "8000/8000 [==============================] - 2s 251us/step - loss: 0.4002 - accuracy: 0.8355\n",
            "Epoch 71/100\n",
            "8000/8000 [==============================] - 2s 251us/step - loss: 0.4005 - accuracy: 0.8351\n",
            "Epoch 72/100\n",
            "8000/8000 [==============================] - 2s 253us/step - loss: 0.4004 - accuracy: 0.8344\n",
            "Epoch 73/100\n",
            "8000/8000 [==============================] - 2s 254us/step - loss: 0.4001 - accuracy: 0.8351\n",
            "Epoch 74/100\n",
            "8000/8000 [==============================] - 2s 252us/step - loss: 0.4006 - accuracy: 0.8350\n",
            "Epoch 75/100\n",
            "8000/8000 [==============================] - 2s 252us/step - loss: 0.4001 - accuracy: 0.8354\n",
            "Epoch 76/100\n",
            "8000/8000 [==============================] - 2s 265us/step - loss: 0.4003 - accuracy: 0.8345\n",
            "Epoch 77/100\n",
            "8000/8000 [==============================] - 2s 271us/step - loss: 0.4002 - accuracy: 0.8366\n",
            "Epoch 78/100\n",
            "8000/8000 [==============================] - 2s 263us/step - loss: 0.3993 - accuracy: 0.8353\n",
            "Epoch 79/100\n",
            "8000/8000 [==============================] - 2s 259us/step - loss: 0.4004 - accuracy: 0.8338\n",
            "Epoch 80/100\n",
            "8000/8000 [==============================] - 2s 267us/step - loss: 0.4003 - accuracy: 0.8360\n",
            "Epoch 81/100\n",
            "8000/8000 [==============================] - 2s 249us/step - loss: 0.4002 - accuracy: 0.8353\n",
            "Epoch 82/100\n",
            "8000/8000 [==============================] - 2s 254us/step - loss: 0.4005 - accuracy: 0.8354\n",
            "Epoch 83/100\n",
            "8000/8000 [==============================] - 2s 251us/step - loss: 0.4003 - accuracy: 0.8341\n",
            "Epoch 84/100\n",
            "8000/8000 [==============================] - 2s 251us/step - loss: 0.4001 - accuracy: 0.8334\n",
            "Epoch 85/100\n",
            "8000/8000 [==============================] - 2s 253us/step - loss: 0.4004 - accuracy: 0.8363\n",
            "Epoch 86/100\n",
            "8000/8000 [==============================] - 2s 253us/step - loss: 0.4002 - accuracy: 0.8353\n",
            "Epoch 87/100\n",
            "8000/8000 [==============================] - 2s 252us/step - loss: 0.4002 - accuracy: 0.8345\n",
            "Epoch 88/100\n",
            "8000/8000 [==============================] - 2s 256us/step - loss: 0.3999 - accuracy: 0.8357\n",
            "Epoch 89/100\n",
            "8000/8000 [==============================] - 2s 251us/step - loss: 0.4005 - accuracy: 0.8355\n",
            "Epoch 90/100\n",
            "8000/8000 [==============================] - 2s 249us/step - loss: 0.4000 - accuracy: 0.8355\n",
            "Epoch 91/100\n",
            "8000/8000 [==============================] - 2s 252us/step - loss: 0.4005 - accuracy: 0.8356\n",
            "Epoch 92/100\n",
            "8000/8000 [==============================] - 2s 251us/step - loss: 0.4001 - accuracy: 0.8357\n",
            "Epoch 93/100\n",
            "8000/8000 [==============================] - 2s 257us/step - loss: 0.3997 - accuracy: 0.8346\n",
            "Epoch 94/100\n",
            "8000/8000 [==============================] - 2s 258us/step - loss: 0.3999 - accuracy: 0.8342\n",
            "Epoch 95/100\n",
            "8000/8000 [==============================] - 2s 253us/step - loss: 0.4000 - accuracy: 0.8345\n",
            "Epoch 96/100\n",
            "8000/8000 [==============================] - 2s 255us/step - loss: 0.4001 - accuracy: 0.8364\n",
            "Epoch 97/100\n",
            "8000/8000 [==============================] - 2s 256us/step - loss: 0.4002 - accuracy: 0.8356\n",
            "Epoch 98/100\n",
            "8000/8000 [==============================] - 2s 255us/step - loss: 0.4001 - accuracy: 0.8354\n",
            "Epoch 99/100\n",
            "8000/8000 [==============================] - 2s 252us/step - loss: 0.4001 - accuracy: 0.8356\n",
            "Epoch 100/100\n",
            "8000/8000 [==============================] - 2s 254us/step - loss: 0.3999 - accuracy: 0.8340\n"
          ],
          "name": "stdout"
        },
        {
          "output_type": "execute_result",
          "data": {
            "text/plain": [
              "<keras.callbacks.callbacks.History at 0x7fedf5270748>"
            ]
          },
          "metadata": {
            "tags": []
          },
          "execution_count": 7
        }
      ]
    },
    {
      "cell_type": "code",
      "metadata": {
        "id": "OU5APgDrCG10",
        "colab_type": "code",
        "colab": {}
      },
      "source": [
        "# Predicting the Test set results\n",
        "y_pred = classifier.predict(X_test)\n",
        "y_pred = (y_pred > 0.5)\n",
        "\n",
        "# Making the Confusion Matrix\n",
        "from sklearn.metrics import confusion_matrix\n",
        "cm = confusion_matrix(y_test, y_pred)"
      ],
      "execution_count": 0,
      "outputs": []
    },
    {
      "cell_type": "code",
      "metadata": {
        "id": "hCtOqAc8DMq4",
        "colab_type": "code",
        "colab": {
          "base_uri": "https://localhost:8080/",
          "height": 50
        },
        "outputId": "985e1629-dea2-4ae9-af24-9f1e49073e8c"
      },
      "source": [
        "print(cm)"
      ],
      "execution_count": 9,
      "outputs": [
        {
          "output_type": "stream",
          "text": [
            "[[1541   54]\n",
            " [ 258  147]]\n"
          ],
          "name": "stdout"
        }
      ]
    },
    {
      "cell_type": "code",
      "metadata": {
        "id": "ZyNuZkaVVsA2",
        "colab_type": "code",
        "colab": {}
      },
      "source": [
        "# Predicting a single new observation\n",
        "\"\"\"Predict if the customer with the following informations will leave the bank:\n",
        "Geography: France\n",
        "Credit Score: 600\n",
        "Gender: Male\n",
        "Age: 40\n",
        "Tenure: 3\n",
        "Balance: 60000\n",
        "Number of Products: 2\n",
        "Has Credit Card: Yes\n",
        "Is Active Member: Yes\n",
        "Estimated Salary: 50000\"\"\"\n",
        "new_prediction = classifier.predict(sc.transform(np.array([[0.0, 0, 600, 1, 40, 3, 60000, 2, 1, 1, 50000]])))\n",
        "new_prediction = (new_prediction > 0.5)"
      ],
      "execution_count": 0,
      "outputs": []
    },
    {
      "cell_type": "code",
      "metadata": {
        "id": "DFUs7n_EW7yr",
        "colab_type": "code",
        "colab": {
          "base_uri": "https://localhost:8080/",
          "height": 33
        },
        "outputId": "0f639842-980d-4f0c-8bd8-40b6f0742122"
      },
      "source": [
        "new_prediction"
      ],
      "execution_count": 11,
      "outputs": [
        {
          "output_type": "execute_result",
          "data": {
            "text/plain": [
              "array([[False]])"
            ]
          },
          "metadata": {
            "tags": []
          },
          "execution_count": 11
        }
      ]
    }
  ]
}