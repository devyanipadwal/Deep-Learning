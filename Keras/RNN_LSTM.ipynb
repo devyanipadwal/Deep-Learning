{
  "nbformat": 4,
  "nbformat_minor": 0,
  "metadata": {
    "colab": {
      "name": "RNN_LSTM.ipynb",
      "provenance": [],
      "collapsed_sections": []
    },
    "kernelspec": {
      "name": "python3",
      "display_name": "Python 3"
    },
    "accelerator": "GPU"
  },
  "cells": [
    {
      "cell_type": "code",
      "metadata": {
        "id": "uPSUJoXYXREX",
        "colab_type": "code",
        "colab": {}
      },
      "source": [
        "# Importing the libraries\n",
        "import numpy as np\n",
        "import matplotlib.pyplot as plt\n",
        "import pandas as pd"
      ],
      "execution_count": 0,
      "outputs": []
    },
    {
      "cell_type": "code",
      "metadata": {
        "id": "uuWW9mJKYm_S",
        "colab_type": "code",
        "colab": {}
      },
      "source": [
        "# Importing the training set\n",
        "dataset_train = pd.read_csv('Google_Stock_Price_Train.csv')\n",
        "training_set = dataset_train.iloc[:, 1:2].values"
      ],
      "execution_count": 0,
      "outputs": []
    },
    {
      "cell_type": "code",
      "metadata": {
        "id": "q-zGYxjNYuan",
        "colab_type": "code",
        "colab": {}
      },
      "source": [
        "# Feature Scaling\n",
        "from sklearn.preprocessing import MinMaxScaler\n",
        "sc = MinMaxScaler(feature_range = (0, 1))\n",
        "training_set_scaled = sc.fit_transform(training_set)"
      ],
      "execution_count": 0,
      "outputs": []
    },
    {
      "cell_type": "code",
      "metadata": {
        "id": "4Z9JnykzY0Ed",
        "colab_type": "code",
        "colab": {}
      },
      "source": [
        "# Creating a data structure with 60 timesteps and 1 output\n",
        "X_train = []\n",
        "y_train = []\n",
        "for i in range(60, 1258):\n",
        "    X_train.append(training_set_scaled[i-60:i, 0])\n",
        "    y_train.append(training_set_scaled[i, 0])\n",
        "X_train, y_train = np.array(X_train), np.array(y_train)"
      ],
      "execution_count": 0,
      "outputs": []
    },
    {
      "cell_type": "code",
      "metadata": {
        "id": "rGCOjM0lY3nw",
        "colab_type": "code",
        "colab": {}
      },
      "source": [
        "# Reshaping\n",
        "X_train = np.reshape(X_train, (X_train.shape[0], X_train.shape[1], 1))"
      ],
      "execution_count": 0,
      "outputs": []
    },
    {
      "cell_type": "code",
      "metadata": {
        "id": "lH-9V3ljY7ew",
        "colab_type": "code",
        "colab": {
          "base_uri": "https://localhost:8080/",
          "height": 33
        },
        "outputId": "964060ac-ea79-4cca-9b3c-0326d4324637"
      },
      "source": [
        "# Importing the Keras libraries and packages\n",
        "from keras.models import Sequential\n",
        "from keras.layers import Dense\n",
        "from keras.layers import LSTM\n",
        "from keras.layers import Dropout"
      ],
      "execution_count": 7,
      "outputs": [
        {
          "output_type": "stream",
          "text": [
            "Using TensorFlow backend.\n"
          ],
          "name": "stderr"
        }
      ]
    },
    {
      "cell_type": "code",
      "metadata": {
        "id": "mym93zIJY_UD",
        "colab_type": "code",
        "colab": {
          "base_uri": "https://localhost:8080/",
          "height": 1000
        },
        "outputId": "d4bb77f2-0edc-4abe-8b6e-1b7048a09092"
      },
      "source": [
        "# Initialising the RNN\n",
        "regressor = Sequential()\n",
        "\n",
        "# Adding the first LSTM layer and some Dropout regularisation\n",
        "regressor.add(LSTM(units = 50, return_sequences = True, input_shape = (X_train.shape[1], 1)))\n",
        "regressor.add(Dropout(0.2))\n",
        "\n",
        "# Adding a second LSTM layer and some Dropout regularisation\n",
        "regressor.add(LSTM(units = 50, return_sequences = True))\n",
        "regressor.add(Dropout(0.2))\n",
        "\n",
        "# Adding a third LSTM layer and some Dropout regularisation\n",
        "regressor.add(LSTM(units = 50, return_sequences = True))\n",
        "regressor.add(Dropout(0.2))\n",
        "\n",
        "# Adding a fourth LSTM layer and some Dropout regularisation\n",
        "regressor.add(LSTM(units = 50))\n",
        "regressor.add(Dropout(0.2))\n",
        "\n",
        "# Adding the output layer\n",
        "regressor.add(Dense(units = 1))\n",
        "\n",
        "# Compiling the RNN\n",
        "regressor.compile(optimizer = 'adam', loss = 'mean_squared_error')\n",
        "\n",
        "# Fitting the RNN to the Training set\n",
        "regressor.fit(X_train, y_train, epochs = 100, batch_size = 32)"
      ],
      "execution_count": 8,
      "outputs": [
        {
          "output_type": "stream",
          "text": [
            "Epoch 1/100\n",
            "1198/1198 [==============================] - 24s 20ms/step - loss: 0.0415\n",
            "Epoch 2/100\n",
            "1198/1198 [==============================] - 21s 17ms/step - loss: 0.0062\n",
            "Epoch 3/100\n",
            "1198/1198 [==============================] - 20s 17ms/step - loss: 0.0055\n",
            "Epoch 4/100\n",
            "1198/1198 [==============================] - 20s 17ms/step - loss: 0.0058\n",
            "Epoch 5/100\n",
            "1198/1198 [==============================] - 21s 17ms/step - loss: 0.0053\n",
            "Epoch 6/100\n",
            "1198/1198 [==============================] - 21s 17ms/step - loss: 0.0058\n",
            "Epoch 7/100\n",
            "1198/1198 [==============================] - 21s 17ms/step - loss: 0.0048\n",
            "Epoch 8/100\n",
            "1198/1198 [==============================] - 21s 17ms/step - loss: 0.0045\n",
            "Epoch 9/100\n",
            "1198/1198 [==============================] - 21s 17ms/step - loss: 0.0042\n",
            "Epoch 10/100\n",
            "1198/1198 [==============================] - 20s 17ms/step - loss: 0.0043\n",
            "Epoch 11/100\n",
            "1198/1198 [==============================] - 20s 17ms/step - loss: 0.0040\n",
            "Epoch 12/100\n",
            "1198/1198 [==============================] - 21s 17ms/step - loss: 0.0043\n",
            "Epoch 13/100\n",
            "1198/1198 [==============================] - 20s 17ms/step - loss: 0.0039\n",
            "Epoch 14/100\n",
            "1198/1198 [==============================] - 21s 17ms/step - loss: 0.0042\n",
            "Epoch 15/100\n",
            "1198/1198 [==============================] - 21s 17ms/step - loss: 0.0037\n",
            "Epoch 16/100\n",
            "1198/1198 [==============================] - 20s 17ms/step - loss: 0.0038\n",
            "Epoch 17/100\n",
            "1198/1198 [==============================] - 21s 17ms/step - loss: 0.0040\n",
            "Epoch 18/100\n",
            "1198/1198 [==============================] - 21s 18ms/step - loss: 0.0038\n",
            "Epoch 19/100\n",
            "1198/1198 [==============================] - 21s 17ms/step - loss: 0.0039\n",
            "Epoch 20/100\n",
            "1198/1198 [==============================] - 21s 17ms/step - loss: 0.0037\n",
            "Epoch 21/100\n",
            "1198/1198 [==============================] - 21s 17ms/step - loss: 0.0034\n",
            "Epoch 22/100\n",
            "1198/1198 [==============================] - 21s 17ms/step - loss: 0.0029\n",
            "Epoch 23/100\n",
            "1198/1198 [==============================] - 21s 17ms/step - loss: 0.0031\n",
            "Epoch 24/100\n",
            "1198/1198 [==============================] - 21s 17ms/step - loss: 0.0036\n",
            "Epoch 25/100\n",
            "1198/1198 [==============================] - 21s 17ms/step - loss: 0.0033\n",
            "Epoch 26/100\n",
            "1198/1198 [==============================] - 21s 17ms/step - loss: 0.0041\n",
            "Epoch 27/100\n",
            "1198/1198 [==============================] - 21s 17ms/step - loss: 0.0032\n",
            "Epoch 28/100\n",
            "1198/1198 [==============================] - 21s 17ms/step - loss: 0.0032\n",
            "Epoch 29/100\n",
            "1198/1198 [==============================] - 21s 17ms/step - loss: 0.0029\n",
            "Epoch 30/100\n",
            "1198/1198 [==============================] - 21s 17ms/step - loss: 0.0030\n",
            "Epoch 31/100\n",
            "1198/1198 [==============================] - 21s 17ms/step - loss: 0.0029\n",
            "Epoch 32/100\n",
            "1198/1198 [==============================] - 20s 17ms/step - loss: 0.0030\n",
            "Epoch 33/100\n",
            "1198/1198 [==============================] - 21s 17ms/step - loss: 0.0029\n",
            "Epoch 34/100\n",
            "1198/1198 [==============================] - 20s 17ms/step - loss: 0.0028\n",
            "Epoch 35/100\n",
            "1198/1198 [==============================] - 20s 17ms/step - loss: 0.0033\n",
            "Epoch 36/100\n",
            "1198/1198 [==============================] - 21s 18ms/step - loss: 0.0026\n",
            "Epoch 37/100\n",
            "1198/1198 [==============================] - 21s 17ms/step - loss: 0.0026\n",
            "Epoch 38/100\n",
            "1198/1198 [==============================] - 21s 17ms/step - loss: 0.0026\n",
            "Epoch 39/100\n",
            "1198/1198 [==============================] - 21s 17ms/step - loss: 0.0028\n",
            "Epoch 40/100\n",
            "1198/1198 [==============================] - 21s 18ms/step - loss: 0.0027\n",
            "Epoch 41/100\n",
            "1198/1198 [==============================] - 21s 17ms/step - loss: 0.0024\n",
            "Epoch 42/100\n",
            "1198/1198 [==============================] - 20s 17ms/step - loss: 0.0026\n",
            "Epoch 43/100\n",
            "1198/1198 [==============================] - 20s 17ms/step - loss: 0.0025\n",
            "Epoch 44/100\n",
            "1198/1198 [==============================] - 20s 17ms/step - loss: 0.0025\n",
            "Epoch 45/100\n",
            "1198/1198 [==============================] - 20s 17ms/step - loss: 0.0023\n",
            "Epoch 46/100\n",
            "1198/1198 [==============================] - 20s 17ms/step - loss: 0.0027\n",
            "Epoch 47/100\n",
            "1198/1198 [==============================] - 21s 17ms/step - loss: 0.0022\n",
            "Epoch 48/100\n",
            "1198/1198 [==============================] - 21s 17ms/step - loss: 0.0023\n",
            "Epoch 49/100\n",
            "1198/1198 [==============================] - 21s 17ms/step - loss: 0.0024\n",
            "Epoch 50/100\n",
            "1198/1198 [==============================] - 21s 17ms/step - loss: 0.0024\n",
            "Epoch 51/100\n",
            "1198/1198 [==============================] - 21s 17ms/step - loss: 0.0020\n",
            "Epoch 52/100\n",
            "1198/1198 [==============================] - 21s 17ms/step - loss: 0.0022\n",
            "Epoch 53/100\n",
            "1198/1198 [==============================] - 21s 17ms/step - loss: 0.0022\n",
            "Epoch 54/100\n",
            "1198/1198 [==============================] - 20s 17ms/step - loss: 0.0022\n",
            "Epoch 55/100\n",
            "1198/1198 [==============================] - 20s 17ms/step - loss: 0.0021\n",
            "Epoch 56/100\n",
            "1198/1198 [==============================] - 20s 17ms/step - loss: 0.0023\n",
            "Epoch 57/100\n",
            "1198/1198 [==============================] - 20s 17ms/step - loss: 0.0022\n",
            "Epoch 58/100\n",
            "1198/1198 [==============================] - 20s 17ms/step - loss: 0.0020\n",
            "Epoch 59/100\n",
            "1198/1198 [==============================] - 20s 17ms/step - loss: 0.0020\n",
            "Epoch 60/100\n",
            "1198/1198 [==============================] - 21s 17ms/step - loss: 0.0023\n",
            "Epoch 61/100\n",
            "1198/1198 [==============================] - 20s 17ms/step - loss: 0.0021\n",
            "Epoch 62/100\n",
            "1198/1198 [==============================] - 20s 17ms/step - loss: 0.0019\n",
            "Epoch 63/100\n",
            "1198/1198 [==============================] - 20s 17ms/step - loss: 0.0022\n",
            "Epoch 64/100\n",
            "1198/1198 [==============================] - 20s 17ms/step - loss: 0.0019\n",
            "Epoch 65/100\n",
            "1198/1198 [==============================] - 20s 17ms/step - loss: 0.0021\n",
            "Epoch 66/100\n",
            "1198/1198 [==============================] - 21s 17ms/step - loss: 0.0021\n",
            "Epoch 67/100\n",
            "1198/1198 [==============================] - 21s 17ms/step - loss: 0.0021\n",
            "Epoch 68/100\n",
            "1198/1198 [==============================] - 20s 17ms/step - loss: 0.0018\n",
            "Epoch 69/100\n",
            "1198/1198 [==============================] - 21s 17ms/step - loss: 0.0019\n",
            "Epoch 70/100\n",
            "1198/1198 [==============================] - 21s 17ms/step - loss: 0.0018\n",
            "Epoch 71/100\n",
            "1198/1198 [==============================] - 21s 17ms/step - loss: 0.0021\n",
            "Epoch 72/100\n",
            "1198/1198 [==============================] - 20s 17ms/step - loss: 0.0018\n",
            "Epoch 73/100\n",
            "1198/1198 [==============================] - 20s 17ms/step - loss: 0.0018\n",
            "Epoch 74/100\n",
            "1198/1198 [==============================] - 21s 17ms/step - loss: 0.0017\n",
            "Epoch 75/100\n",
            "1198/1198 [==============================] - 21s 17ms/step - loss: 0.0017\n",
            "Epoch 76/100\n",
            "1198/1198 [==============================] - 21s 18ms/step - loss: 0.0017\n",
            "Epoch 77/100\n",
            "1198/1198 [==============================] - 21s 18ms/step - loss: 0.0017\n",
            "Epoch 78/100\n",
            "1198/1198 [==============================] - 21s 18ms/step - loss: 0.0018\n",
            "Epoch 79/100\n",
            "1198/1198 [==============================] - 21s 17ms/step - loss: 0.0016\n",
            "Epoch 80/100\n",
            "1198/1198 [==============================] - 21s 17ms/step - loss: 0.0017\n",
            "Epoch 81/100\n",
            "1198/1198 [==============================] - 21s 17ms/step - loss: 0.0016\n",
            "Epoch 82/100\n",
            "1198/1198 [==============================] - 21s 18ms/step - loss: 0.0017\n",
            "Epoch 83/100\n",
            "1198/1198 [==============================] - 21s 17ms/step - loss: 0.0016\n",
            "Epoch 84/100\n",
            "1198/1198 [==============================] - 21s 17ms/step - loss: 0.0019\n",
            "Epoch 85/100\n",
            "1198/1198 [==============================] - 20s 17ms/step - loss: 0.0015\n",
            "Epoch 86/100\n",
            "1198/1198 [==============================] - 21s 17ms/step - loss: 0.0015\n",
            "Epoch 87/100\n",
            "1198/1198 [==============================] - 20s 17ms/step - loss: 0.0016\n",
            "Epoch 88/100\n",
            "1198/1198 [==============================] - 20s 17ms/step - loss: 0.0014\n",
            "Epoch 89/100\n",
            "1198/1198 [==============================] - 21s 17ms/step - loss: 0.0015\n",
            "Epoch 90/100\n",
            "1198/1198 [==============================] - 20s 17ms/step - loss: 0.0015\n",
            "Epoch 91/100\n",
            "1198/1198 [==============================] - 21s 17ms/step - loss: 0.0015\n",
            "Epoch 92/100\n",
            "1198/1198 [==============================] - 20s 17ms/step - loss: 0.0014\n",
            "Epoch 93/100\n",
            "1198/1198 [==============================] - 21s 17ms/step - loss: 0.0015\n",
            "Epoch 94/100\n",
            "1198/1198 [==============================] - 21s 17ms/step - loss: 0.0016\n",
            "Epoch 95/100\n",
            "1198/1198 [==============================] - 20s 17ms/step - loss: 0.0018\n",
            "Epoch 96/100\n",
            "1198/1198 [==============================] - 21s 17ms/step - loss: 0.0017\n",
            "Epoch 97/100\n",
            "1198/1198 [==============================] - 21s 18ms/step - loss: 0.0016\n",
            "Epoch 98/100\n",
            "1198/1198 [==============================] - 21s 17ms/step - loss: 0.0016\n",
            "Epoch 99/100\n",
            "1198/1198 [==============================] - 21s 17ms/step - loss: 0.0014\n",
            "Epoch 100/100\n",
            "1198/1198 [==============================] - 21s 17ms/step - loss: 0.0014\n"
          ],
          "name": "stdout"
        },
        {
          "output_type": "execute_result",
          "data": {
            "text/plain": [
              "<keras.callbacks.callbacks.History at 0x7fd8a264b0b8>"
            ]
          },
          "metadata": {
            "tags": []
          },
          "execution_count": 8
        }
      ]
    },
    {
      "cell_type": "code",
      "metadata": {
        "id": "Psbxzn8HZHgr",
        "colab_type": "code",
        "colab": {}
      },
      "source": [
        "# Getting the real stock price of 2017\n",
        "dataset_test = pd.read_csv('Google_Stock_Price_Test.csv')\n",
        "real_stock_price = dataset_test.iloc[:, 1:2].values"
      ],
      "execution_count": 0,
      "outputs": []
    },
    {
      "cell_type": "code",
      "metadata": {
        "id": "YHVZLBOQZUpS",
        "colab_type": "code",
        "colab": {}
      },
      "source": [
        "# Getting the predicted stock price of 2017\n",
        "dataset_total = pd.concat((dataset_train['Open'], dataset_test['Open']), axis = 0)\n",
        "inputs = dataset_total[len(dataset_total) - len(dataset_test) - 60:].values\n",
        "inputs = inputs.reshape(-1,1)\n",
        "inputs = sc.transform(inputs)\n",
        "X_test = []\n",
        "for i in range(60, 80):\n",
        "    X_test.append(inputs[i-60:i, 0])\n",
        "X_test = np.array(X_test)\n",
        "X_test = np.reshape(X_test, (X_test.shape[0], X_test.shape[1], 1))\n",
        "predicted_stock_price = regressor.predict(X_test)\n",
        "predicted_stock_price = sc.inverse_transform(predicted_stock_price)"
      ],
      "execution_count": 0,
      "outputs": []
    },
    {
      "cell_type": "code",
      "metadata": {
        "id": "rZgqgGJFZUtg",
        "colab_type": "code",
        "colab": {
          "base_uri": "https://localhost:8080/",
          "height": 295
        },
        "outputId": "b49a23fc-bfc4-4342-d596-b9cc751d3ba9"
      },
      "source": [
        "# Visualising the results\n",
        "plt.plot(real_stock_price, color = 'red', label = 'Real Google Stock Price')\n",
        "plt.plot(predicted_stock_price, color = 'blue', label = 'Predicted Google Stock Price')\n",
        "plt.title('Google Stock Price Prediction')\n",
        "plt.xlabel('Time')\n",
        "plt.ylabel('Google Stock Price')\n",
        "plt.legend()\n",
        "plt.show()"
      ],
      "execution_count": 11,
      "outputs": [
        {
          "output_type": "display_data",
          "data": {
            "image/png": "[encoded data removed]",
            "text/plain": [
              "<Figure size 432x288 with 1 Axes>"
            ]
          },
          "metadata": {
            "tags": [],
            "needs_background": "light"
          }
        }
      ]
    }
  ]
}